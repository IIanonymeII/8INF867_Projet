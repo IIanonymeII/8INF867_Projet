{
 "cells": [
  {
   "cell_type": "code",
   "execution_count": null,
   "metadata": {},
   "outputs": [],
   "source": []
  },
  {
   "cell_type": "code",
   "execution_count": 3,
   "metadata": {},
   "outputs": [],
   "source": [
    "import pandas as pd\n",
    "from test import convertCatToNum, drop_rows_with_missing, normalize, encode_player_names, split_data\n",
    "\n",
    "# on import toutes les données\n",
    "\n",
    "df_atp = pd.read_csv('all_matches_ATP.csv')"
   ]
  },
  {
   "cell_type": "code",
   "execution_count": 4,
   "metadata": {},
   "outputs": [
    {
     "data": {
      "text/plain": [
       "Index(['Court', 'Surface', 'Round', 'Player1_name', 'Player2_name',\n",
       "       'Player1_rank', 'Player2_rank', 'Comment', 'Series', 'y'],\n",
       "      dtype='object')"
      ]
     },
     "execution_count": 4,
     "metadata": {},
     "output_type": "execute_result"
    }
   ],
   "source": [
    "df_atp.columns"
   ]
  },
  {
   "cell_type": "code",
   "execution_count": 5,
   "metadata": {},
   "outputs": [],
   "source": [
    "\n",
    "cat_cols = ['Court','Surface','Round'  ]\n",
    "\n",
    "num_cols = [\"Player1_rank\",\"Player2_rank\", \"Series\",]\n"
   ]
  },
  {
   "cell_type": "code",
   "execution_count": 6,
   "metadata": {},
   "outputs": [
    {
     "name": "stdout",
     "output_type": "stream",
     "text": [
      " ===     Replace categorial variable     ===\n",
      " ===   Convert categorical to numerical  ===\n",
      " ===         drop missing values         ===\n",
      " ===            Normalize data           ===\n",
      "=== Encoding player names ===\n",
      "Encoding completed.\n",
      "=== Splitting data into train and test sets ===\n",
      "Data split completed.\n"
     ]
    }
   ],
   "source": [
    "import numpy as np\n",
    "\n",
    "\n",
    "df_processed = convertCatToNum(df=df_atp,cat_cols=cat_cols)\n",
    "df = drop_rows_with_missing(df_processed,columns=[\"y\",\"Series\"])\n",
    "df_atp = normalize(df,num_cols)\n",
    "df_final = encode_player_names(df=df_atp)\n",
    "\n",
    "x_train, x_test, y_train, y_test = split_data(df_final)\n"
   ]
  },
  {
   "cell_type": "code",
   "execution_count": 7,
   "metadata": {},
   "outputs": [],
   "source": [
    "\n",
    "X_train = x_train.drop(['Comment'],axis=1)\n",
    "X_test = x_test.drop(['Comment'],axis=1)"
   ]
  },
  {
   "cell_type": "code",
   "execution_count": 8,
   "metadata": {},
   "outputs": [],
   "source": [
    "nbr_test_valid = int(len(X_test)/2)\n",
    "\n",
    "X_valid = X_test[:nbr_test_valid]\n",
    "X_test = X_test[nbr_test_valid:]\n",
    "\n",
    "y_valid = y_test[:nbr_test_valid]\n",
    "y_test = y_test[nbr_test_valid:]\n",
    "\n"
   ]
  },
  {
   "cell_type": "code",
   "execution_count": 9,
   "metadata": {},
   "outputs": [
    {
     "data": {
      "text/plain": [
       "44265    1\n",
       "37191    1\n",
       "26573    1\n",
       "32841    1\n",
       "46341    1\n",
       "        ..\n",
       "45481    1\n",
       "13197    1\n",
       "53061    0\n",
       "23017    0\n",
       "44889    1\n",
       "Name: y, Length: 6899, dtype: int64"
      ]
     },
     "execution_count": 9,
     "metadata": {},
     "output_type": "execute_result"
    }
   ],
   "source": [
    "y_valid"
   ]
  },
  {
   "cell_type": "code",
   "execution_count": 10,
   "metadata": {},
   "outputs": [],
   "source": [
    "EPOCHS = 20"
   ]
  },
  {
   "cell_type": "markdown",
   "metadata": {},
   "source": [
    "# CNN 1"
   ]
  },
  {
   "cell_type": "code",
   "execution_count": 11,
   "metadata": {},
   "outputs": [],
   "source": [
    "\n",
    "from tensorflow.keras.models import Sequential\n",
    "from keras.layers import Conv1D, MaxPooling1D, Flatten, Dense\n",
    "\n",
    "from tensorflow.keras.wrappers.scikit_learn import KerasClassifier"
   ]
  },
  {
   "cell_type": "code",
   "execution_count": 12,
   "metadata": {},
   "outputs": [],
   "source": [
    "# Build neural network model\n",
    "model = Sequential()\n",
    "model.add(Dense(64, activation='relu', input_shape=(X_train.shape[1],)))\n",
    "model.add(Dense(32, activation='relu'))\n",
    "model.add(Dense(1, activation='sigmoid'))  # Assuming binary classification"
   ]
  },
  {
   "cell_type": "code",
   "execution_count": 13,
   "metadata": {},
   "outputs": [],
   "source": [
    "# Compile model\n",
    "model.compile(optimizer='adam', loss='binary_crossentropy', metrics=['accuracy'])\n"
   ]
  },
  {
   "cell_type": "code",
   "execution_count": 14,
   "metadata": {},
   "outputs": [
    {
     "name": "stdout",
     "output_type": "stream",
     "text": [
      "Epoch 1/20\n",
      "876/876 [==============================] - 5s 5ms/step - loss: 1.1480 - accuracy: 0.4999 - val_loss: 0.8280 - val_accuracy: 0.5011\n",
      "Epoch 2/20\n",
      "876/876 [==============================] - 3s 4ms/step - loss: 0.9762 - accuracy: 0.5012 - val_loss: 0.9913 - val_accuracy: 0.4989\n",
      "Epoch 3/20\n",
      "876/876 [==============================] - 3s 3ms/step - loss: 0.9859 - accuracy: 0.5041 - val_loss: 0.7097 - val_accuracy: 0.5143\n",
      "Epoch 4/20\n",
      "876/876 [==============================] - 3s 4ms/step - loss: 0.8685 - accuracy: 0.5041 - val_loss: 0.6927 - val_accuracy: 0.5212\n",
      "Epoch 5/20\n",
      "876/876 [==============================] - 3s 4ms/step - loss: 0.8929 - accuracy: 0.5100 - val_loss: 0.7740 - val_accuracy: 0.5070\n",
      "Epoch 6/20\n",
      "876/876 [==============================] - 3s 3ms/step - loss: 0.8473 - accuracy: 0.5088 - val_loss: 0.7480 - val_accuracy: 0.5136\n",
      "Epoch 7/20\n",
      "876/876 [==============================] - 3s 3ms/step - loss: 0.8397 - accuracy: 0.5100 - val_loss: 0.7681 - val_accuracy: 0.5036\n",
      "Epoch 8/20\n",
      "876/876 [==============================] - 3s 3ms/step - loss: 0.7973 - accuracy: 0.5103 - val_loss: 0.7154 - val_accuracy: 0.5178\n",
      "Epoch 9/20\n",
      "876/876 [==============================] - 3s 3ms/step - loss: 0.8062 - accuracy: 0.5143 - val_loss: 0.7141 - val_accuracy: 0.5020\n",
      "Epoch 10/20\n",
      "876/876 [==============================] - 3s 4ms/step - loss: 0.8008 - accuracy: 0.5193 - val_loss: 0.9384 - val_accuracy: 0.4995\n",
      "Epoch 11/20\n",
      "876/876 [==============================] - 4s 4ms/step - loss: 0.7920 - accuracy: 0.5174 - val_loss: 0.7190 - val_accuracy: 0.5180\n",
      "Epoch 12/20\n",
      "876/876 [==============================] - 3s 3ms/step - loss: 0.7908 - accuracy: 0.5142 - val_loss: 0.7613 - val_accuracy: 0.5133\n",
      "Epoch 13/20\n",
      "876/876 [==============================] - 3s 3ms/step - loss: 0.7685 - accuracy: 0.5129 - val_loss: 0.7916 - val_accuracy: 0.5118\n",
      "Epoch 14/20\n",
      "876/876 [==============================] - 4s 5ms/step - loss: 0.7823 - accuracy: 0.5173 - val_loss: 0.8797 - val_accuracy: 0.5021\n",
      "Epoch 15/20\n",
      "876/876 [==============================] - 4s 4ms/step - loss: 0.7540 - accuracy: 0.5200 - val_loss: 0.7283 - val_accuracy: 0.5166\n",
      "Epoch 16/20\n",
      "876/876 [==============================] - 4s 5ms/step - loss: 0.7312 - accuracy: 0.5202 - val_loss: 0.6973 - val_accuracy: 0.5454\n",
      "Epoch 17/20\n",
      "876/876 [==============================] - 4s 4ms/step - loss: 0.7443 - accuracy: 0.5236 - val_loss: 0.7355 - val_accuracy: 0.4995\n",
      "Epoch 18/20\n",
      "876/876 [==============================] - 3s 4ms/step - loss: 0.7437 - accuracy: 0.5184 - val_loss: 0.7354 - val_accuracy: 0.4999\n",
      "Epoch 19/20\n",
      "876/876 [==============================] - 4s 5ms/step - loss: 0.7192 - accuracy: 0.5267 - val_loss: 0.7320 - val_accuracy: 0.5131\n",
      "Epoch 20/20\n",
      "876/876 [==============================] - 4s 4ms/step - loss: 0.7246 - accuracy: 0.5197 - val_loss: 0.7237 - val_accuracy: 0.5069\n"
     ]
    }
   ],
   "source": [
    "# Train the model\n",
    "history = model.fit(X_train, y_train, epochs=EPOCHS, batch_size=32, validation_data=(X_valid, y_valid))\n"
   ]
  },
  {
   "cell_type": "code",
   "execution_count": 15,
   "metadata": {},
   "outputs": [
    {
     "data": {
      "image/png": "[encoded data removed]",
      "text/plain": [
       "<Figure size 432x288 with 1 Axes>"
      ]
     },
     "metadata": {
      "needs_background": "light"
     },
     "output_type": "display_data"
    },
    {
     "data": {
      "image/png": "[encoded data removed]",
      "text/plain": [
       "<Figure size 432x288 with 1 Axes>"
      ]
     },
     "metadata": {
      "needs_background": "light"
     },
     "output_type": "display_data"
    }
   ],
   "source": [
    "\n",
    "import matplotlib.pyplot as plt\n",
    "# Afficher les courbes de perte\n",
    "plt.plot(history.history['loss'], label='Train Loss')\n",
    "plt.plot(history.history['val_loss'], label='Validation Loss')\n",
    "plt.xlabel('Epochs')\n",
    "plt.ylabel('Loss')\n",
    "plt.legend()\n",
    "plt.show()\n",
    "\n",
    "# Afficher les courbes de précision\n",
    "plt.plot(history.history['accuracy'], label='Train Accuracy')\n",
    "plt.plot(history.history['val_accuracy'], label='Validation Accuracy')\n",
    "plt.xlabel('Epochs')\n",
    "plt.ylabel('Accuracy')\n",
    "plt.legend()\n",
    "plt.show()"
   ]
  },
  {
   "cell_type": "code",
   "execution_count": 16,
   "metadata": {},
   "outputs": [
    {
     "name": "stdout",
     "output_type": "stream",
     "text": [
      "216/216 [==============================] - 1s 2ms/step - loss: 0.7189 - accuracy: 0.5098\n",
      "Test Accuracy: 0.5097840428352356\n"
     ]
    }
   ],
   "source": [
    "# Evaluate model\n",
    "loss, accuracy = model.evaluate(X_test, y_test)\n",
    "print(f\"Test Accuracy: {accuracy}\")"
   ]
  },
  {
   "cell_type": "markdown",
   "metadata": {},
   "source": [
    "# CNN"
   ]
  },
  {
   "cell_type": "code",
   "execution_count": 17,
   "metadata": {},
   "outputs": [
    {
     "data": {
      "text/html": [
       "<div>\n",
       "<style scoped>\n",
       "    .dataframe tbody tr th:only-of-type {\n",
       "        vertical-align: middle;\n",
       "    }\n",
       "\n",
       "    .dataframe tbody tr th {\n",
       "        vertical-align: top;\n",
       "    }\n",
       "\n",
       "    .dataframe thead th {\n",
       "        text-align: right;\n",
       "    }\n",
       "</style>\n",
       "<table border=\"1\" class=\"dataframe\">\n",
       "  <thead>\n",
       "    <tr style=\"text-align: right;\">\n",
       "      <th></th>\n",
       "      <th>Player1_rank</th>\n",
       "      <th>Player2_rank</th>\n",
       "      <th>Series</th>\n",
       "      <th>Court_Indoor</th>\n",
       "      <th>Court_Outdoor</th>\n",
       "      <th>Surface_Carpet</th>\n",
       "      <th>Surface_Clay</th>\n",
       "      <th>Surface_Grass</th>\n",
       "      <th>Surface_Hard</th>\n",
       "      <th>Round_1st Round</th>\n",
       "      <th>Round_2nd Round</th>\n",
       "      <th>Round_3rd Round</th>\n",
       "      <th>Round_4th Round</th>\n",
       "      <th>Round_Quarterfinals</th>\n",
       "      <th>Round_Round Robin</th>\n",
       "      <th>Round_Semifinals</th>\n",
       "      <th>Round_The Final</th>\n",
       "      <th>Player1_name_encoded</th>\n",
       "      <th>Player2_name_encoded</th>\n",
       "    </tr>\n",
       "  </thead>\n",
       "  <tbody>\n",
       "    <tr>\n",
       "      <th>56168</th>\n",
       "      <td>0.031268</td>\n",
       "      <td>0.012004</td>\n",
       "      <td>0.428571</td>\n",
       "      <td>0</td>\n",
       "      <td>1</td>\n",
       "      <td>0</td>\n",
       "      <td>0</td>\n",
       "      <td>0</td>\n",
       "      <td>1</td>\n",
       "      <td>1</td>\n",
       "      <td>0</td>\n",
       "      <td>0</td>\n",
       "      <td>0</td>\n",
       "      <td>0</td>\n",
       "      <td>0</td>\n",
       "      <td>0</td>\n",
       "      <td>0</td>\n",
       "      <td>1167</td>\n",
       "      <td>1120</td>\n",
       "    </tr>\n",
       "    <tr>\n",
       "      <th>28740</th>\n",
       "      <td>0.022419</td>\n",
       "      <td>0.007528</td>\n",
       "      <td>0.428571</td>\n",
       "      <td>0</td>\n",
       "      <td>1</td>\n",
       "      <td>0</td>\n",
       "      <td>0</td>\n",
       "      <td>0</td>\n",
       "      <td>1</td>\n",
       "      <td>1</td>\n",
       "      <td>0</td>\n",
       "      <td>0</td>\n",
       "      <td>0</td>\n",
       "      <td>0</td>\n",
       "      <td>0</td>\n",
       "      <td>0</td>\n",
       "      <td>0</td>\n",
       "      <td>1131</td>\n",
       "      <td>129</td>\n",
       "    </tr>\n",
       "    <tr>\n",
       "      <th>27384</th>\n",
       "      <td>0.065192</td>\n",
       "      <td>0.003052</td>\n",
       "      <td>0.428571</td>\n",
       "      <td>0</td>\n",
       "      <td>1</td>\n",
       "      <td>0</td>\n",
       "      <td>0</td>\n",
       "      <td>0</td>\n",
       "      <td>1</td>\n",
       "      <td>1</td>\n",
       "      <td>0</td>\n",
       "      <td>0</td>\n",
       "      <td>0</td>\n",
       "      <td>0</td>\n",
       "      <td>0</td>\n",
       "      <td>0</td>\n",
       "      <td>0</td>\n",
       "      <td>1291</td>\n",
       "      <td>1186</td>\n",
       "    </tr>\n",
       "    <tr>\n",
       "      <th>23831</th>\n",
       "      <td>0.033628</td>\n",
       "      <td>0.018718</td>\n",
       "      <td>0.000000</td>\n",
       "      <td>0</td>\n",
       "      <td>1</td>\n",
       "      <td>0</td>\n",
       "      <td>1</td>\n",
       "      <td>0</td>\n",
       "      <td>0</td>\n",
       "      <td>1</td>\n",
       "      <td>0</td>\n",
       "      <td>0</td>\n",
       "      <td>0</td>\n",
       "      <td>0</td>\n",
       "      <td>0</td>\n",
       "      <td>0</td>\n",
       "      <td>0</td>\n",
       "      <td>718</td>\n",
       "      <td>750</td>\n",
       "    </tr>\n",
       "    <tr>\n",
       "      <th>43928</th>\n",
       "      <td>0.006195</td>\n",
       "      <td>0.009563</td>\n",
       "      <td>0.000000</td>\n",
       "      <td>0</td>\n",
       "      <td>1</td>\n",
       "      <td>0</td>\n",
       "      <td>0</td>\n",
       "      <td>0</td>\n",
       "      <td>1</td>\n",
       "      <td>0</td>\n",
       "      <td>0</td>\n",
       "      <td>0</td>\n",
       "      <td>0</td>\n",
       "      <td>0</td>\n",
       "      <td>0</td>\n",
       "      <td>0</td>\n",
       "      <td>1</td>\n",
       "      <td>652</td>\n",
       "      <td>488</td>\n",
       "    </tr>\n",
       "    <tr>\n",
       "      <th>...</th>\n",
       "      <td>...</td>\n",
       "      <td>...</td>\n",
       "      <td>...</td>\n",
       "      <td>...</td>\n",
       "      <td>...</td>\n",
       "      <td>...</td>\n",
       "      <td>...</td>\n",
       "      <td>...</td>\n",
       "      <td>...</td>\n",
       "      <td>...</td>\n",
       "      <td>...</td>\n",
       "      <td>...</td>\n",
       "      <td>...</td>\n",
       "      <td>...</td>\n",
       "      <td>...</td>\n",
       "      <td>...</td>\n",
       "      <td>...</td>\n",
       "      <td>...</td>\n",
       "      <td>...</td>\n",
       "    </tr>\n",
       "    <tr>\n",
       "      <th>22636</th>\n",
       "      <td>0.015929</td>\n",
       "      <td>0.018922</td>\n",
       "      <td>0.000000</td>\n",
       "      <td>1</td>\n",
       "      <td>0</td>\n",
       "      <td>0</td>\n",
       "      <td>0</td>\n",
       "      <td>0</td>\n",
       "      <td>1</td>\n",
       "      <td>0</td>\n",
       "      <td>0</td>\n",
       "      <td>0</td>\n",
       "      <td>0</td>\n",
       "      <td>0</td>\n",
       "      <td>0</td>\n",
       "      <td>0</td>\n",
       "      <td>1</td>\n",
       "      <td>1309</td>\n",
       "      <td>1131</td>\n",
       "    </tr>\n",
       "    <tr>\n",
       "      <th>27655</th>\n",
       "      <td>0.000590</td>\n",
       "      <td>0.000203</td>\n",
       "      <td>1.000000</td>\n",
       "      <td>0</td>\n",
       "      <td>1</td>\n",
       "      <td>0</td>\n",
       "      <td>0</td>\n",
       "      <td>0</td>\n",
       "      <td>1</td>\n",
       "      <td>0</td>\n",
       "      <td>0</td>\n",
       "      <td>0</td>\n",
       "      <td>0</td>\n",
       "      <td>0</td>\n",
       "      <td>0</td>\n",
       "      <td>0</td>\n",
       "      <td>1</td>\n",
       "      <td>845</td>\n",
       "      <td>292</td>\n",
       "    </tr>\n",
       "    <tr>\n",
       "      <th>54529</th>\n",
       "      <td>0.013864</td>\n",
       "      <td>0.005493</td>\n",
       "      <td>0.000000</td>\n",
       "      <td>0</td>\n",
       "      <td>1</td>\n",
       "      <td>0</td>\n",
       "      <td>1</td>\n",
       "      <td>0</td>\n",
       "      <td>0</td>\n",
       "      <td>1</td>\n",
       "      <td>0</td>\n",
       "      <td>0</td>\n",
       "      <td>0</td>\n",
       "      <td>0</td>\n",
       "      <td>0</td>\n",
       "      <td>0</td>\n",
       "      <td>0</td>\n",
       "      <td>454</td>\n",
       "      <td>1018</td>\n",
       "    </tr>\n",
       "    <tr>\n",
       "      <th>4563</th>\n",
       "      <td>0.025959</td>\n",
       "      <td>0.000203</td>\n",
       "      <td>1.000000</td>\n",
       "      <td>0</td>\n",
       "      <td>1</td>\n",
       "      <td>0</td>\n",
       "      <td>0</td>\n",
       "      <td>1</td>\n",
       "      <td>0</td>\n",
       "      <td>0</td>\n",
       "      <td>1</td>\n",
       "      <td>0</td>\n",
       "      <td>0</td>\n",
       "      <td>0</td>\n",
       "      <td>0</td>\n",
       "      <td>0</td>\n",
       "      <td>0</td>\n",
       "      <td>169</td>\n",
       "      <td>4</td>\n",
       "    </tr>\n",
       "    <tr>\n",
       "      <th>32166</th>\n",
       "      <td>0.028024</td>\n",
       "      <td>0.004883</td>\n",
       "      <td>0.000000</td>\n",
       "      <td>0</td>\n",
       "      <td>1</td>\n",
       "      <td>0</td>\n",
       "      <td>0</td>\n",
       "      <td>1</td>\n",
       "      <td>0</td>\n",
       "      <td>0</td>\n",
       "      <td>1</td>\n",
       "      <td>0</td>\n",
       "      <td>0</td>\n",
       "      <td>0</td>\n",
       "      <td>0</td>\n",
       "      <td>0</td>\n",
       "      <td>0</td>\n",
       "      <td>419</td>\n",
       "      <td>297</td>\n",
       "    </tr>\n",
       "  </tbody>\n",
       "</table>\n",
       "<p>28013 rows × 19 columns</p>\n",
       "</div>"
      ],
      "text/plain": [
       "       Player1_rank  Player2_rank    Series  Court_Indoor  Court_Outdoor  \\\n",
       "56168      0.031268      0.012004  0.428571             0              1   \n",
       "28740      0.022419      0.007528  0.428571             0              1   \n",
       "27384      0.065192      0.003052  0.428571             0              1   \n",
       "23831      0.033628      0.018718  0.000000             0              1   \n",
       "43928      0.006195      0.009563  0.000000             0              1   \n",
       "...             ...           ...       ...           ...            ...   \n",
       "22636      0.015929      0.018922  0.000000             1              0   \n",
       "27655      0.000590      0.000203  1.000000             0              1   \n",
       "54529      0.013864      0.005493  0.000000             0              1   \n",
       "4563       0.025959      0.000203  1.000000             0              1   \n",
       "32166      0.028024      0.004883  0.000000             0              1   \n",
       "\n",
       "       Surface_Carpet  Surface_Clay  Surface_Grass  Surface_Hard  \\\n",
       "56168               0             0              0             1   \n",
       "28740               0             0              0             1   \n",
       "27384               0             0              0             1   \n",
       "23831               0             1              0             0   \n",
       "43928               0             0              0             1   \n",
       "...               ...           ...            ...           ...   \n",
       "22636               0             0              0             1   \n",
       "27655               0             0              0             1   \n",
       "54529               0             1              0             0   \n",
       "4563                0             0              1             0   \n",
       "32166               0             0              1             0   \n",
       "\n",
       "       Round_1st Round  Round_2nd Round  Round_3rd Round  Round_4th Round  \\\n",
       "56168                1                0                0                0   \n",
       "28740                1                0                0                0   \n",
       "27384                1                0                0                0   \n",
       "23831                1                0                0                0   \n",
       "43928                0                0                0                0   \n",
       "...                ...              ...              ...              ...   \n",
       "22636                0                0                0                0   \n",
       "27655                0                0                0                0   \n",
       "54529                1                0                0                0   \n",
       "4563                 0                1                0                0   \n",
       "32166                0                1                0                0   \n",
       "\n",
       "       Round_Quarterfinals  Round_Round Robin  Round_Semifinals  \\\n",
       "56168                    0                  0                 0   \n",
       "28740                    0                  0                 0   \n",
       "27384                    0                  0                 0   \n",
       "23831                    0                  0                 0   \n",
       "43928                    0                  0                 0   \n",
       "...                    ...                ...               ...   \n",
       "22636                    0                  0                 0   \n",
       "27655                    0                  0                 0   \n",
       "54529                    0                  0                 0   \n",
       "4563                     0                  0                 0   \n",
       "32166                    0                  0                 0   \n",
       "\n",
       "       Round_The Final  Player1_name_encoded  Player2_name_encoded  \n",
       "56168                0                  1167                  1120  \n",
       "28740                0                  1131                   129  \n",
       "27384                0                  1291                  1186  \n",
       "23831                0                   718                   750  \n",
       "43928                1                   652                   488  \n",
       "...                ...                   ...                   ...  \n",
       "22636                1                  1309                  1131  \n",
       "27655                1                   845                   292  \n",
       "54529                0                   454                  1018  \n",
       "4563                 0                   169                     4  \n",
       "32166                0                   419                   297  \n",
       "\n",
       "[28013 rows x 19 columns]"
      ]
     },
     "execution_count": 17,
     "metadata": {},
     "output_type": "execute_result"
    }
   ],
   "source": [
    "X_train"
   ]
  },
  {
   "cell_type": "code",
   "execution_count": 18,
   "metadata": {},
   "outputs": [],
   "source": [
    "# Define the model\n",
    "model = Sequential()\n",
    "model.add(Conv1D(filters=64, kernel_size=3, activation='relu', input_shape=(X_train.shape[1], 1)))\n",
    "model.add(MaxPooling1D(pool_size=2))\n",
    "model.add(Flatten())\n",
    "model.add(Dense(64, activation='relu'))\n",
    "model.add(Dense(32, activation='relu'))\n",
    "model.add(Dense(1, activation='sigmoid'))  # Assuming binary classification\n",
    "\n"
   ]
  },
  {
   "cell_type": "code",
   "execution_count": 19,
   "metadata": {},
   "outputs": [],
   "source": [
    "# Compile the model\n",
    "model.compile(optimizer='adam', loss='binary_crossentropy', metrics=['accuracy'])\n"
   ]
  },
  {
   "cell_type": "code",
   "execution_count": 20,
   "metadata": {},
   "outputs": [
    {
     "name": "stdout",
     "output_type": "stream",
     "text": [
      "Model: \"sequential_1\"\n",
      "_________________________________________________________________\n",
      " Layer (type)                Output Shape              Param #   \n",
      "=================================================================\n",
      " conv1d (Conv1D)             (None, 17, 64)            256       \n",
      "                                                                 \n",
      " max_pooling1d (MaxPooling1D  (None, 8, 64)            0         \n",
      " )                                                               \n",
      "                                                                 \n",
      " flatten (Flatten)           (None, 512)               0         \n",
      "                                                                 \n",
      " dense_3 (Dense)             (None, 64)                32832     \n",
      "                                                                 \n",
      " dense_4 (Dense)             (None, 32)                2080      \n",
      "                                                                 \n",
      " dense_5 (Dense)             (None, 1)                 33        \n",
      "                                                                 \n",
      "=================================================================\n",
      "Total params: 35,201\n",
      "Trainable params: 35,201\n",
      "Non-trainable params: 0\n",
      "_________________________________________________________________\n"
     ]
    }
   ],
   "source": [
    "model.summary()"
   ]
  },
  {
   "cell_type": "code",
   "execution_count": 21,
   "metadata": {},
   "outputs": [
    {
     "name": "stdout",
     "output_type": "stream",
     "text": [
      "Epoch 1/20\n"
     ]
    },
    {
     "name": "stdout",
     "output_type": "stream",
     "text": [
      "876/876 [==============================] - 8s 7ms/step - loss: 0.7623 - accuracy: 0.4980 - val_loss: 0.8077 - val_accuracy: 0.5036\n",
      "Epoch 2/20\n",
      "876/876 [==============================] - 5s 6ms/step - loss: 0.7093 - accuracy: 0.5016 - val_loss: 0.6959 - val_accuracy: 0.5072\n",
      "Epoch 3/20\n",
      "876/876 [==============================] - 5s 6ms/step - loss: 0.6982 - accuracy: 0.5048 - val_loss: 0.6980 - val_accuracy: 0.4966\n",
      "Epoch 4/20\n",
      "876/876 [==============================] - 6s 7ms/step - loss: 0.6973 - accuracy: 0.5031 - val_loss: 0.6932 - val_accuracy: 0.5053\n",
      "Epoch 5/20\n",
      "876/876 [==============================] - 6s 7ms/step - loss: 0.6930 - accuracy: 0.5048 - val_loss: 0.6932 - val_accuracy: 0.4954\n",
      "Epoch 6/20\n",
      "876/876 [==============================] - 5s 6ms/step - loss: 0.6928 - accuracy: 0.5062 - val_loss: 0.6930 - val_accuracy: 0.4963\n",
      "Epoch 7/20\n",
      "876/876 [==============================] - 5s 6ms/step - loss: 0.6927 - accuracy: 0.5053 - val_loss: 0.6936 - val_accuracy: 0.4959\n",
      "Epoch 8/20\n",
      "876/876 [==============================] - 4s 5ms/step - loss: 0.6924 - accuracy: 0.5082 - val_loss: 0.6930 - val_accuracy: 0.5057\n",
      "Epoch 9/20\n",
      "876/876 [==============================] - 4s 5ms/step - loss: 0.6925 - accuracy: 0.5048 - val_loss: 0.6931 - val_accuracy: 0.4978\n",
      "Epoch 10/20\n",
      "876/876 [==============================] - 5s 6ms/step - loss: 0.6924 - accuracy: 0.5048 - val_loss: 0.6931 - val_accuracy: 0.4983\n",
      "Epoch 11/20\n",
      "876/876 [==============================] - 5s 5ms/step - loss: 0.6924 - accuracy: 0.5068 - val_loss: 0.6932 - val_accuracy: 0.4988\n",
      "Epoch 12/20\n",
      "876/876 [==============================] - 5s 6ms/step - loss: 0.6924 - accuracy: 0.5073 - val_loss: 0.6928 - val_accuracy: 0.4976\n",
      "Epoch 13/20\n",
      "876/876 [==============================] - 5s 6ms/step - loss: 0.6925 - accuracy: 0.5040 - val_loss: 0.6932 - val_accuracy: 0.4979\n",
      "Epoch 14/20\n",
      "876/876 [==============================] - 3s 4ms/step - loss: 0.6923 - accuracy: 0.5067 - val_loss: 0.6930 - val_accuracy: 0.4969\n",
      "Epoch 15/20\n",
      "876/876 [==============================] - 3s 4ms/step - loss: 0.6925 - accuracy: 0.5045 - val_loss: 0.6933 - val_accuracy: 0.4975\n",
      "Epoch 16/20\n",
      "876/876 [==============================] - 3s 4ms/step - loss: 0.6922 - accuracy: 0.5073 - val_loss: 0.6935 - val_accuracy: 0.4975\n",
      "Epoch 17/20\n",
      "876/876 [==============================] - 3s 3ms/step - loss: 0.6922 - accuracy: 0.5094 - val_loss: 0.6938 - val_accuracy: 0.5056\n",
      "Epoch 18/20\n",
      "876/876 [==============================] - 3s 3ms/step - loss: 0.6922 - accuracy: 0.5012 - val_loss: 0.6934 - val_accuracy: 0.4970\n",
      "Epoch 19/20\n",
      "876/876 [==============================] - 3s 3ms/step - loss: 0.6921 - accuracy: 0.5050 - val_loss: 0.6934 - val_accuracy: 0.4966\n",
      "Epoch 20/20\n",
      "876/876 [==============================] - 3s 3ms/step - loss: 0.6920 - accuracy: 0.5060 - val_loss: 0.6948 - val_accuracy: 0.4972\n"
     ]
    }
   ],
   "source": [
    "# Train the model\n",
    "history = model.fit(X_train, y_train, epochs=EPOCHS, batch_size=32, validation_data=(X_valid, y_valid))"
   ]
  },
  {
   "cell_type": "code",
   "execution_count": 22,
   "metadata": {},
   "outputs": [
    {
     "data": {
      "image/png": "[encoded data removed]",
      "text/plain": [
       "<Figure size 432x288 with 1 Axes>"
      ]
     },
     "metadata": {
      "needs_background": "light"
     },
     "output_type": "display_data"
    },
    {
     "data": {
      "image/png": "[encoded data removed]",
      "text/plain": [
       "<Figure size 432x288 with 1 Axes>"
      ]
     },
     "metadata": {
      "needs_background": "light"
     },
     "output_type": "display_data"
    }
   ],
   "source": [
    "# Afficher les courbes de perte\n",
    "plt.plot(history.history['loss'], label='Train Loss')\n",
    "plt.plot(history.history['val_loss'], label='Validation Loss')\n",
    "plt.xlabel('Epochs')\n",
    "plt.ylabel('Loss')\n",
    "plt.legend()\n",
    "plt.show()\n",
    "\n",
    "# Afficher les courbes de précision\n",
    "plt.plot(history.history['accuracy'], label='Train Accuracy')\n",
    "plt.plot(history.history['val_accuracy'], label='Validation Accuracy')\n",
    "plt.xlabel('Epochs')\n",
    "plt.ylabel('Accuracy')\n",
    "plt.legend()\n",
    "plt.show()"
   ]
  },
  {
   "cell_type": "code",
   "execution_count": 23,
   "metadata": {},
   "outputs": [
    {
     "name": "stdout",
     "output_type": "stream",
     "text": [
      "216/216 [==============================] - 0s 2ms/step - loss: 0.6944 - accuracy: 0.4938\n",
      "Test Accuracy: 0.49383968114852905\n"
     ]
    }
   ],
   "source": [
    "# Evaluate the model\n",
    "loss, accuracy = model.evaluate(X_test, y_test)\n",
    "print(f\"Test Accuracy: {accuracy}\")"
   ]
  }
 ],
 "metadata": {
  "kernelspec": {
   "display_name": "Python 3",
   "language": "python",
   "name": "python3"
  },
  "language_info": {
   "codemirror_mode": {
    "name": "ipython",
    "version": 3
   },
   "file_extension": ".py",
   "mimetype": "text/x-python",
   "name": "python",
   "nbconvert_exporter": "python",
   "pygments_lexer": "ipython3",
   "version": "3.9.13"
  }
 },
 "nbformat": 4,
 "nbformat_minor": 2
}
