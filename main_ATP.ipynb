{
 "cells": [
  {
   "cell_type": "code",
   "execution_count": 1,
   "metadata": {},
   "outputs": [],
   "source": [
    "import pandas as pd\n",
    "from test import convertCatToNum, drop_rows_with_missing, normalize, encode_player_names, split_data\n",
    "\n",
    "# on import toutes les données\n",
    "\n",
    "df_atp = pd.read_csv('all_matches_ATP.csv')"
   ]
  },
  {
   "cell_type": "code",
   "execution_count": 2,
   "metadata": {},
   "outputs": [
    {
     "name": "stdout",
     "output_type": "stream",
     "text": [
      "<class 'pandas.core.frame.DataFrame'>\n",
      "RangeIndex: 58182 entries, 0 to 58181\n",
      "Data columns (total 10 columns):\n",
      " #   Column        Non-Null Count  Dtype  \n",
      "---  ------        --------------  -----  \n",
      " 0   Court         58182 non-null  object \n",
      " 1   Surface       58182 non-null  object \n",
      " 2   Round         58182 non-null  object \n",
      " 3   Player1_name  58182 non-null  object \n",
      " 4   Player2_name  58182 non-null  object \n",
      " 5   Player1_rank  58182 non-null  int64  \n",
      " 6   Player2_rank  58182 non-null  int64  \n",
      " 7   Comment       58182 non-null  object \n",
      " 8   Series        41811 non-null  float64\n",
      " 9   y             58182 non-null  int64  \n",
      "dtypes: float64(1), int64(3), object(6)\n",
      "memory usage: 4.4+ MB\n"
     ]
    }
   ],
   "source": [
    "df_atp.info()"
   ]
  },
  {
   "cell_type": "code",
   "execution_count": 3,
   "metadata": {},
   "outputs": [],
   "source": [
    "\n",
    "cat_cols = ['Court','Surface','Round',]\n",
    "\n",
    "num_cols = [\"Player1_rank\",\"Player2_rank\",\"Series\",]\n"
   ]
  },
  {
   "cell_type": "code",
   "execution_count": 4,
   "metadata": {},
   "outputs": [
    {
     "name": "stdout",
     "output_type": "stream",
     "text": [
      " ===     Replace categorial variable     ===\n",
      " ===   Convert categorical to numerical  ===\n",
      " ===         drop missing values         ===\n",
      " ===            Normalize data           ===\n"
     ]
    }
   ],
   "source": [
    "import numpy as np\n",
    "\n",
    "\n",
    "df_processed = convertCatToNum(df=df_atp,cat_cols=cat_cols)\n",
    "df = drop_rows_with_missing(df_processed,columns=[\"y\",\"Series\"])\n",
    "df_atp = normalize(df,num_cols)\n"
   ]
  },
  {
   "cell_type": "code",
   "execution_count": 5,
   "metadata": {},
   "outputs": [
    {
     "name": "stdout",
     "output_type": "stream",
     "text": [
      "<class 'pandas.core.frame.DataFrame'>\n",
      "Int64Index: 41811 entries, 155 to 58181\n",
      "Data columns (total 21 columns):\n",
      " #   Column               Non-Null Count  Dtype  \n",
      "---  ------               --------------  -----  \n",
      " 0   Player1_name         41811 non-null  object \n",
      " 1   Player2_name         41811 non-null  object \n",
      " 2   Player1_rank         41811 non-null  float64\n",
      " 3   Player2_rank         41811 non-null  float64\n",
      " 4   Comment              41811 non-null  object \n",
      " 5   Series               41811 non-null  float64\n",
      " 6   y                    41811 non-null  int64  \n",
      " 7   Court_Indoor         41811 non-null  uint8  \n",
      " 8   Court_Outdoor        41811 non-null  uint8  \n",
      " 9   Surface_Carpet       41811 non-null  uint8  \n",
      " 10  Surface_Clay         41811 non-null  uint8  \n",
      " 11  Surface_Grass        41811 non-null  uint8  \n",
      " 12  Surface_Hard         41811 non-null  uint8  \n",
      " 13  Round_1st Round      41811 non-null  uint8  \n",
      " 14  Round_2nd Round      41811 non-null  uint8  \n",
      " 15  Round_3rd Round      41811 non-null  uint8  \n",
      " 16  Round_4th Round      41811 non-null  uint8  \n",
      " 17  Round_Quarterfinals  41811 non-null  uint8  \n",
      " 18  Round_Round Robin    41811 non-null  uint8  \n",
      " 19  Round_Semifinals     41811 non-null  uint8  \n",
      " 20  Round_The Final      41811 non-null  uint8  \n",
      "dtypes: float64(3), int64(1), object(3), uint8(14)\n",
      "memory usage: 3.1+ MB\n"
     ]
    }
   ],
   "source": [
    "df_atp.info()\n"
   ]
  },
  {
   "cell_type": "code",
   "execution_count": 6,
   "metadata": {},
   "outputs": [
    {
     "data": {
      "text/html": [
       "<div>\n",
       "<style scoped>\n",
       "    .dataframe tbody tr th:only-of-type {\n",
       "        vertical-align: middle;\n",
       "    }\n",
       "\n",
       "    .dataframe tbody tr th {\n",
       "        vertical-align: top;\n",
       "    }\n",
       "\n",
       "    .dataframe thead th {\n",
       "        text-align: right;\n",
       "    }\n",
       "</style>\n",
       "<table border=\"1\" class=\"dataframe\">\n",
       "  <thead>\n",
       "    <tr style=\"text-align: right;\">\n",
       "      <th></th>\n",
       "      <th>Player1_name</th>\n",
       "      <th>Player2_name</th>\n",
       "      <th>Player1_rank</th>\n",
       "      <th>Player2_rank</th>\n",
       "      <th>Comment</th>\n",
       "      <th>Series</th>\n",
       "      <th>y</th>\n",
       "      <th>Court_Indoor</th>\n",
       "      <th>Court_Outdoor</th>\n",
       "      <th>Surface_Carpet</th>\n",
       "      <th>...</th>\n",
       "      <th>Surface_Grass</th>\n",
       "      <th>Surface_Hard</th>\n",
       "      <th>Round_1st Round</th>\n",
       "      <th>Round_2nd Round</th>\n",
       "      <th>Round_3rd Round</th>\n",
       "      <th>Round_4th Round</th>\n",
       "      <th>Round_Quarterfinals</th>\n",
       "      <th>Round_Round Robin</th>\n",
       "      <th>Round_Semifinals</th>\n",
       "      <th>Round_The Final</th>\n",
       "    </tr>\n",
       "  </thead>\n",
       "  <tbody>\n",
       "    <tr>\n",
       "      <th>155</th>\n",
       "      <td>Pioline C.</td>\n",
       "      <td>Dosedel S.</td>\n",
       "      <td>0.005015</td>\n",
       "      <td>0.014649</td>\n",
       "      <td>Completed</td>\n",
       "      <td>1.0</td>\n",
       "      <td>1</td>\n",
       "      <td>0</td>\n",
       "      <td>1</td>\n",
       "      <td>0</td>\n",
       "      <td>...</td>\n",
       "      <td>0</td>\n",
       "      <td>1</td>\n",
       "      <td>0</td>\n",
       "      <td>1</td>\n",
       "      <td>0</td>\n",
       "      <td>0</td>\n",
       "      <td>0</td>\n",
       "      <td>0</td>\n",
       "      <td>0</td>\n",
       "      <td>0</td>\n",
       "    </tr>\n",
       "    <tr>\n",
       "      <th>156</th>\n",
       "      <td>Arthurs W.</td>\n",
       "      <td>Heuberger I.</td>\n",
       "      <td>0.024189</td>\n",
       "      <td>0.047609</td>\n",
       "      <td>Completed</td>\n",
       "      <td>1.0</td>\n",
       "      <td>1</td>\n",
       "      <td>0</td>\n",
       "      <td>1</td>\n",
       "      <td>0</td>\n",
       "      <td>...</td>\n",
       "      <td>0</td>\n",
       "      <td>1</td>\n",
       "      <td>0</td>\n",
       "      <td>1</td>\n",
       "      <td>0</td>\n",
       "      <td>0</td>\n",
       "      <td>0</td>\n",
       "      <td>0</td>\n",
       "      <td>0</td>\n",
       "      <td>0</td>\n",
       "    </tr>\n",
       "    <tr>\n",
       "      <th>157</th>\n",
       "      <td>Nestor D.</td>\n",
       "      <td>Squillari F.</td>\n",
       "      <td>0.064307</td>\n",
       "      <td>0.002848</td>\n",
       "      <td>Completed</td>\n",
       "      <td>1.0</td>\n",
       "      <td>1</td>\n",
       "      <td>0</td>\n",
       "      <td>1</td>\n",
       "      <td>0</td>\n",
       "      <td>...</td>\n",
       "      <td>0</td>\n",
       "      <td>1</td>\n",
       "      <td>0</td>\n",
       "      <td>1</td>\n",
       "      <td>0</td>\n",
       "      <td>0</td>\n",
       "      <td>0</td>\n",
       "      <td>0</td>\n",
       "      <td>0</td>\n",
       "      <td>0</td>\n",
       "    </tr>\n",
       "    <tr>\n",
       "      <th>158</th>\n",
       "      <td>Santoro F.</td>\n",
       "      <td>Norman M.</td>\n",
       "      <td>0.013864</td>\n",
       "      <td>0.000814</td>\n",
       "      <td>Completed</td>\n",
       "      <td>1.0</td>\n",
       "      <td>0</td>\n",
       "      <td>0</td>\n",
       "      <td>1</td>\n",
       "      <td>0</td>\n",
       "      <td>...</td>\n",
       "      <td>0</td>\n",
       "      <td>1</td>\n",
       "      <td>0</td>\n",
       "      <td>1</td>\n",
       "      <td>0</td>\n",
       "      <td>0</td>\n",
       "      <td>0</td>\n",
       "      <td>0</td>\n",
       "      <td>0</td>\n",
       "      <td>0</td>\n",
       "    </tr>\n",
       "    <tr>\n",
       "      <th>159</th>\n",
       "      <td>Mamiit C.</td>\n",
       "      <td>Prinosil D.</td>\n",
       "      <td>0.036873</td>\n",
       "      <td>0.007935</td>\n",
       "      <td>Completed</td>\n",
       "      <td>1.0</td>\n",
       "      <td>0</td>\n",
       "      <td>0</td>\n",
       "      <td>1</td>\n",
       "      <td>0</td>\n",
       "      <td>...</td>\n",
       "      <td>0</td>\n",
       "      <td>1</td>\n",
       "      <td>0</td>\n",
       "      <td>1</td>\n",
       "      <td>0</td>\n",
       "      <td>0</td>\n",
       "      <td>0</td>\n",
       "      <td>0</td>\n",
       "      <td>0</td>\n",
       "      <td>0</td>\n",
       "    </tr>\n",
       "  </tbody>\n",
       "</table>\n",
       "<p>5 rows × 21 columns</p>\n",
       "</div>"
      ],
      "text/plain": [
       "    Player1_name  Player2_name  Player1_rank  Player2_rank    Comment  Series  \\\n",
       "155   Pioline C.    Dosedel S.      0.005015      0.014649  Completed     1.0   \n",
       "156   Arthurs W.  Heuberger I.      0.024189      0.047609  Completed     1.0   \n",
       "157    Nestor D.  Squillari F.      0.064307      0.002848  Completed     1.0   \n",
       "158   Santoro F.     Norman M.      0.013864      0.000814  Completed     1.0   \n",
       "159    Mamiit C.   Prinosil D.      0.036873      0.007935  Completed     1.0   \n",
       "\n",
       "     y  Court_Indoor  Court_Outdoor  Surface_Carpet  ...  Surface_Grass  \\\n",
       "155  1             0              1               0  ...              0   \n",
       "156  1             0              1               0  ...              0   \n",
       "157  1             0              1               0  ...              0   \n",
       "158  0             0              1               0  ...              0   \n",
       "159  0             0              1               0  ...              0   \n",
       "\n",
       "     Surface_Hard  Round_1st Round  Round_2nd Round  Round_3rd Round  \\\n",
       "155             1                0                1                0   \n",
       "156             1                0                1                0   \n",
       "157             1                0                1                0   \n",
       "158             1                0                1                0   \n",
       "159             1                0                1                0   \n",
       "\n",
       "     Round_4th Round  Round_Quarterfinals  Round_Round Robin  \\\n",
       "155                0                    0                  0   \n",
       "156                0                    0                  0   \n",
       "157                0                    0                  0   \n",
       "158                0                    0                  0   \n",
       "159                0                    0                  0   \n",
       "\n",
       "     Round_Semifinals  Round_The Final  \n",
       "155                 0                0  \n",
       "156                 0                0  \n",
       "157                 0                0  \n",
       "158                 0                0  \n",
       "159                 0                0  \n",
       "\n",
       "[5 rows x 21 columns]"
      ]
     },
     "execution_count": 6,
     "metadata": {},
     "output_type": "execute_result"
    }
   ],
   "source": [
    "df_atp.head()"
   ]
  },
  {
   "cell_type": "code",
   "execution_count": 7,
   "metadata": {},
   "outputs": [],
   "source": [
    "from sklearn.metrics import classification_report\n",
    "from sklearn.model_selection import RandomizedSearchCV\n",
    "from sklearn.ensemble import RandomForestClassifier"
   ]
  },
  {
   "cell_type": "code",
   "execution_count": 8,
   "metadata": {},
   "outputs": [
    {
     "data": {
      "text/plain": [
       "Completed       40248\n",
       "Retired          1315\n",
       "Walkover          241\n",
       "Awarded             3\n",
       "Disqualified        2\n",
       "Sched               1\n",
       "Rrtired             1\n",
       "Name: Comment, dtype: int64"
      ]
     },
     "execution_count": 8,
     "metadata": {},
     "output_type": "execute_result"
    }
   ],
   "source": [
    "df_atp['Comment'].value_counts()"
   ]
  },
  {
   "cell_type": "code",
   "execution_count": 9,
   "metadata": {},
   "outputs": [
    {
     "name": "stdout",
     "output_type": "stream",
     "text": [
      "=== Encoding player names ===\n",
      "Encoding completed.\n"
     ]
    }
   ],
   "source": [
    "df_final = encode_player_names(df=df_atp)"
   ]
  },
  {
   "cell_type": "code",
   "execution_count": 10,
   "metadata": {},
   "outputs": [
    {
     "name": "stdout",
     "output_type": "stream",
     "text": [
      "=== Splitting data into train and test sets ===\n",
      "Data split completed.\n"
     ]
    }
   ],
   "source": [
    "x_train, x_test, y_train, y_test = split_data(df_final)"
   ]
  },
  {
   "cell_type": "code",
   "execution_count": 11,
   "metadata": {},
   "outputs": [],
   "source": [
    "X_train = x_train.drop(['Comment'],axis=1)\n",
    "X_test = x_test.drop(['Comment'],axis=1)"
   ]
  },
  {
   "cell_type": "markdown",
   "metadata": {},
   "source": [
    "# Decision tree"
   ]
  },
  {
   "cell_type": "code",
   "execution_count": 12,
   "metadata": {},
   "outputs": [
    {
     "name": "stdout",
     "output_type": "stream",
     "text": [
      "Best Score: 0.5793020668411226\n",
      "Best Hyperparameters: {'max_features': 'log2', 'max_depth': 65}\n"
     ]
    }
   ],
   "source": [
    "from sklearn.tree import DecisionTreeClassifier\n",
    "\n",
    "# Define model\n",
    "model = DecisionTreeClassifier()\n",
    "\n",
    "\n",
    "# define search space\n",
    "param_grid = {\n",
    "    'max_depth': list(range(25, 100, 10)),\n",
    "    'max_features': ['auto', 'sqrt', 'log2']\n",
    "}\n",
    "\n",
    "search = RandomizedSearchCV(model, param_grid, n_iter=5, cv=10, scoring='accuracy', n_jobs=-1, random_state=1)\n",
    "\n",
    "# execute search\n",
    "result = search.fit(X_train, y_train)\n",
    "# summarize result\n",
    "print('Best Score: %s' % result.best_score_)\n",
    "print('Best Hyperparameters: %s' % result.best_params_)\n",
    "# {'max_features': 'auto', 'max_depth': 85}"
   ]
  },
  {
   "cell_type": "code",
   "execution_count": 13,
   "metadata": {},
   "outputs": [
    {
     "name": "stderr",
     "output_type": "stream",
     "text": [
      "C:\\Users\\User\\AppData\\Local\\Packages\\PythonSoftwareFoundation.Python.3.9_qbz5n2kfra8p0\\LocalCache\\local-packages\\Python39\\site-packages\\sklearn\\tree\\_classes.py:298: FutureWarning: `max_features='auto'` has been deprecated in 1.1 and will be removed in 1.3. To keep the past behaviour, explicitly set `max_features='sqrt'`.\n",
      "  warnings.warn(\n"
     ]
    },
    {
     "data": {
      "text/html": [
       "<style>#sk-container-id-1 {color: black;background-color: white;}#sk-container-id-1 pre{padding: 0;}#sk-container-id-1 div.sk-toggleable {background-color: white;}#sk-container-id-1 label.sk-toggleable__label {cursor: pointer;display: block;width: 100%;margin-bottom: 0;padding: 0.3em;box-sizing: border-box;text-align: center;}#sk-container-id-1 label.sk-toggleable__label-arrow:before {content: \"▸\";float: left;margin-right: 0.25em;color: #696969;}#sk-container-id-1 label.sk-toggleable__label-arrow:hover:before {color: black;}#sk-container-id-1 div.sk-estimator:hover label.sk-toggleable__label-arrow:before {color: black;}#sk-container-id-1 div.sk-toggleable__content {max-height: 0;max-width: 0;overflow: hidden;text-align: left;background-color: #f0f8ff;}#sk-container-id-1 div.sk-toggleable__content pre {margin: 0.2em;color: black;border-radius: 0.25em;background-color: #f0f8ff;}#sk-container-id-1 input.sk-toggleable__control:checked~div.sk-toggleable__content {max-height: 200px;max-width: 100%;overflow: auto;}#sk-container-id-1 input.sk-toggleable__control:checked~label.sk-toggleable__label-arrow:before {content: \"▾\";}#sk-container-id-1 div.sk-estimator input.sk-toggleable__control:checked~label.sk-toggleable__label {background-color: #d4ebff;}#sk-container-id-1 div.sk-label input.sk-toggleable__control:checked~label.sk-toggleable__label {background-color: #d4ebff;}#sk-container-id-1 input.sk-hidden--visually {border: 0;clip: rect(1px 1px 1px 1px);clip: rect(1px, 1px, 1px, 1px);height: 1px;margin: -1px;overflow: hidden;padding: 0;position: absolute;width: 1px;}#sk-container-id-1 div.sk-estimator {font-family: monospace;background-color: #f0f8ff;border: 1px dotted black;border-radius: 0.25em;box-sizing: border-box;margin-bottom: 0.5em;}#sk-container-id-1 div.sk-estimator:hover {background-color: #d4ebff;}#sk-container-id-1 div.sk-parallel-item::after {content: \"\";width: 100%;border-bottom: 1px solid gray;flex-grow: 1;}#sk-container-id-1 div.sk-label:hover label.sk-toggleable__label {background-color: #d4ebff;}#sk-container-id-1 div.sk-serial::before {content: \"\";position: absolute;border-left: 1px solid gray;box-sizing: border-box;top: 0;bottom: 0;left: 50%;z-index: 0;}#sk-container-id-1 div.sk-serial {display: flex;flex-direction: column;align-items: center;background-color: white;padding-right: 0.2em;padding-left: 0.2em;position: relative;}#sk-container-id-1 div.sk-item {position: relative;z-index: 1;}#sk-container-id-1 div.sk-parallel {display: flex;align-items: stretch;justify-content: center;background-color: white;position: relative;}#sk-container-id-1 div.sk-item::before, #sk-container-id-1 div.sk-parallel-item::before {content: \"\";position: absolute;border-left: 1px solid gray;box-sizing: border-box;top: 0;bottom: 0;left: 50%;z-index: -1;}#sk-container-id-1 div.sk-parallel-item {display: flex;flex-direction: column;z-index: 1;position: relative;background-color: white;}#sk-container-id-1 div.sk-parallel-item:first-child::after {align-self: flex-end;width: 50%;}#sk-container-id-1 div.sk-parallel-item:last-child::after {align-self: flex-start;width: 50%;}#sk-container-id-1 div.sk-parallel-item:only-child::after {width: 0;}#sk-container-id-1 div.sk-dashed-wrapped {border: 1px dashed gray;margin: 0 0.4em 0.5em 0.4em;box-sizing: border-box;padding-bottom: 0.4em;background-color: white;}#sk-container-id-1 div.sk-label label {font-family: monospace;font-weight: bold;display: inline-block;line-height: 1.2em;}#sk-container-id-1 div.sk-label-container {text-align: center;}#sk-container-id-1 div.sk-container {/* jupyter's `normalize.less` sets `[hidden] { display: none; }` but bootstrap.min.css set `[hidden] { display: none !important; }` so we also need the `!important` here to be able to override the default hidden behavior on the sphinx rendered scikit-learn.org. See: https://github.com/scikit-learn/scikit-learn/issues/21755 */display: inline-block !important;position: relative;}#sk-container-id-1 div.sk-text-repr-fallback {display: none;}</style><div id=\"sk-container-id-1\" class=\"sk-top-container\"><div class=\"sk-text-repr-fallback\"><pre>DecisionTreeClassifier(max_depth=85, max_features=&#x27;auto&#x27;)</pre><b>In a Jupyter environment, please rerun this cell to show the HTML representation or trust the notebook. <br />On GitHub, the HTML representation is unable to render, please try loading this page with nbviewer.org.</b></div><div class=\"sk-container\" hidden><div class=\"sk-item\"><div class=\"sk-estimator sk-toggleable\"><input class=\"sk-toggleable__control sk-hidden--visually\" id=\"sk-estimator-id-1\" type=\"checkbox\" checked><label for=\"sk-estimator-id-1\" class=\"sk-toggleable__label sk-toggleable__label-arrow\">DecisionTreeClassifier</label><div class=\"sk-toggleable__content\"><pre>DecisionTreeClassifier(max_depth=85, max_features=&#x27;auto&#x27;)</pre></div></div></div></div></div>"
      ],
      "text/plain": [
       "DecisionTreeClassifier(max_depth=85, max_features='auto')"
      ]
     },
     "execution_count": 13,
     "metadata": {},
     "output_type": "execute_result"
    }
   ],
   "source": [
    "model = DecisionTreeClassifier(max_features='auto',max_depth=85)\n",
    "# execute search\n",
    "model.fit(X_train, y_train)"
   ]
  },
  {
   "cell_type": "code",
   "execution_count": 14,
   "metadata": {},
   "outputs": [
    {
     "name": "stdout",
     "output_type": "stream",
     "text": [
      "              precision    recall  f1-score   support\n",
      "\n",
      "           0       0.57      0.57      0.57      6815\n",
      "           1       0.58      0.57      0.57      6983\n",
      "\n",
      "    accuracy                           0.57     13798\n",
      "   macro avg       0.57      0.57      0.57     13798\n",
      "weighted avg       0.57      0.57      0.57     13798\n",
      "\n"
     ]
    }
   ],
   "source": [
    "# Prediction with best model from random search \n",
    "#best_random = result.best_estimator_\n",
    "\n",
    "y_pred_test = model.predict(X_test)\n",
    "print(classification_report(y_test, y_pred_test))"
   ]
  },
  {
   "cell_type": "markdown",
   "metadata": {},
   "source": [
    "# xgboost"
   ]
  },
  {
   "cell_type": "code",
   "execution_count": 15,
   "metadata": {},
   "outputs": [
    {
     "name": "stderr",
     "output_type": "stream",
     "text": [
      "C:\\Users\\User\\AppData\\Local\\Packages\\PythonSoftwareFoundation.Python.3.9_qbz5n2kfra8p0\\LocalCache\\local-packages\\Python39\\site-packages\\xgboost\\compat.py:31: FutureWarning: pandas.Int64Index is deprecated and will be removed from pandas in a future version. Use pandas.Index with the appropriate dtype instead.\n",
      "  from pandas import MultiIndex, Int64Index\n"
     ]
    }
   ],
   "source": [
    "import xgboost as xgb\n",
    "from sklearn.model_selection import RandomizedSearchCV\n",
    "import numpy as np\n",
    "\n",
    "# Define the XGBoost model\n",
    "model = xgb.XGBClassifier()\n",
    "\n",
    "# Define the search space (parameter grid)\n",
    "param_grid = {\n",
    "    'n_estimators': np.arange(100, 1000, 100),  # Number of boosting rounds\n",
    "    'max_depth': np.arange(3, 10),  # Maximum tree depth\n",
    "    'learning_rate': [0.001,0.005,0.01, 0.1],  # Step size shrinkage used in update to prevent overfitting\n",
    "    'subsample': [0.7, 0.8, 0.9, 1.0],  # Fraction of samples used for fitting the trees\n",
    "    'colsample_bytree': [0.7, 0.8, 0.9, 1.0],  # Fraction of features used for fitting the trees\n",
    "}\n",
    "\n",
    "# Create a RandomizedSearchCV object\n",
    "search = RandomizedSearchCV(model, param_distributions=param_grid, n_iter=10, cv=5, scoring='accuracy', n_jobs=-1, random_state=1)\n",
    "\n",
    "# Execute the search\n",
    "result = search.fit(X_train, y_train)\n",
    "\n",
    "# Summarize the results\n",
    "print('Best Score: %s' % result.best_score_)\n",
    "print('Best Hyperparameters: %s' % result.best_params_)\n"
   ]
  },
  {
   "cell_type": "code",
   "execution_count": 16,
   "metadata": {},
   "outputs": [
    {
     "name": "stderr",
     "output_type": "stream",
     "text": [
      "C:\\Users\\User\\AppData\\Local\\Packages\\PythonSoftwareFoundation.Python.3.9_qbz5n2kfra8p0\\LocalCache\\local-packages\\Python39\\site-packages\\xgboost\\sklearn.py:1146: UserWarning: The use of label encoder in XGBClassifier is deprecated and will be removed in a future release. To remove this warning, do the following: 1) Pass option use_label_encoder=False when constructing XGBClassifier object; and 2) Encode your labels (y) as integers starting with 0, i.e. 0, 1, 2, ..., [num_class - 1].\n",
      "  warnings.warn(label_encoder_deprecation_msg, UserWarning)\n",
      "C:\\Users\\User\\AppData\\Local\\Packages\\PythonSoftwareFoundation.Python.3.9_qbz5n2kfra8p0\\LocalCache\\local-packages\\Python39\\site-packages\\xgboost\\data.py:208: FutureWarning: pandas.Int64Index is deprecated and will be removed from pandas in a future version. Use pandas.Index with the appropriate dtype instead.\n",
      "  from pandas import MultiIndex, Int64Index\n"
     ]
    },
    {
     "name": "stdout",
     "output_type": "stream",
     "text": [
      "[09:30:35] WARNING: C:/Users/Administrator/workspace/xgboost-win64_release_1.4.0/src/learner.cc:1095: Starting in XGBoost 1.3.0, the default evaluation metric used with the objective 'binary:logistic' was changed from 'error' to 'logloss'. Explicitly set eval_metric if you'd like to restore the old behavior.\n"
     ]
    },
    {
     "data": {
      "text/html": [
       "<style>#sk-container-id-2 {color: black;background-color: white;}#sk-container-id-2 pre{padding: 0;}#sk-container-id-2 div.sk-toggleable {background-color: white;}#sk-container-id-2 label.sk-toggleable__label {cursor: pointer;display: block;width: 100%;margin-bottom: 0;padding: 0.3em;box-sizing: border-box;text-align: center;}#sk-container-id-2 label.sk-toggleable__label-arrow:before {content: \"▸\";float: left;margin-right: 0.25em;color: #696969;}#sk-container-id-2 label.sk-toggleable__label-arrow:hover:before {color: black;}#sk-container-id-2 div.sk-estimator:hover label.sk-toggleable__label-arrow:before {color: black;}#sk-container-id-2 div.sk-toggleable__content {max-height: 0;max-width: 0;overflow: hidden;text-align: left;background-color: #f0f8ff;}#sk-container-id-2 div.sk-toggleable__content pre {margin: 0.2em;color: black;border-radius: 0.25em;background-color: #f0f8ff;}#sk-container-id-2 input.sk-toggleable__control:checked~div.sk-toggleable__content {max-height: 200px;max-width: 100%;overflow: auto;}#sk-container-id-2 input.sk-toggleable__control:checked~label.sk-toggleable__label-arrow:before {content: \"▾\";}#sk-container-id-2 div.sk-estimator input.sk-toggleable__control:checked~label.sk-toggleable__label {background-color: #d4ebff;}#sk-container-id-2 div.sk-label input.sk-toggleable__control:checked~label.sk-toggleable__label {background-color: #d4ebff;}#sk-container-id-2 input.sk-hidden--visually {border: 0;clip: rect(1px 1px 1px 1px);clip: rect(1px, 1px, 1px, 1px);height: 1px;margin: -1px;overflow: hidden;padding: 0;position: absolute;width: 1px;}#sk-container-id-2 div.sk-estimator {font-family: monospace;background-color: #f0f8ff;border: 1px dotted black;border-radius: 0.25em;box-sizing: border-box;margin-bottom: 0.5em;}#sk-container-id-2 div.sk-estimator:hover {background-color: #d4ebff;}#sk-container-id-2 div.sk-parallel-item::after {content: \"\";width: 100%;border-bottom: 1px solid gray;flex-grow: 1;}#sk-container-id-2 div.sk-label:hover label.sk-toggleable__label {background-color: #d4ebff;}#sk-container-id-2 div.sk-serial::before {content: \"\";position: absolute;border-left: 1px solid gray;box-sizing: border-box;top: 0;bottom: 0;left: 50%;z-index: 0;}#sk-container-id-2 div.sk-serial {display: flex;flex-direction: column;align-items: center;background-color: white;padding-right: 0.2em;padding-left: 0.2em;position: relative;}#sk-container-id-2 div.sk-item {position: relative;z-index: 1;}#sk-container-id-2 div.sk-parallel {display: flex;align-items: stretch;justify-content: center;background-color: white;position: relative;}#sk-container-id-2 div.sk-item::before, #sk-container-id-2 div.sk-parallel-item::before {content: \"\";position: absolute;border-left: 1px solid gray;box-sizing: border-box;top: 0;bottom: 0;left: 50%;z-index: -1;}#sk-container-id-2 div.sk-parallel-item {display: flex;flex-direction: column;z-index: 1;position: relative;background-color: white;}#sk-container-id-2 div.sk-parallel-item:first-child::after {align-self: flex-end;width: 50%;}#sk-container-id-2 div.sk-parallel-item:last-child::after {align-self: flex-start;width: 50%;}#sk-container-id-2 div.sk-parallel-item:only-child::after {width: 0;}#sk-container-id-2 div.sk-dashed-wrapped {border: 1px dashed gray;margin: 0 0.4em 0.5em 0.4em;box-sizing: border-box;padding-bottom: 0.4em;background-color: white;}#sk-container-id-2 div.sk-label label {font-family: monospace;font-weight: bold;display: inline-block;line-height: 1.2em;}#sk-container-id-2 div.sk-label-container {text-align: center;}#sk-container-id-2 div.sk-container {/* jupyter's `normalize.less` sets `[hidden] { display: none; }` but bootstrap.min.css set `[hidden] { display: none !important; }` so we also need the `!important` here to be able to override the default hidden behavior on the sphinx rendered scikit-learn.org. See: https://github.com/scikit-learn/scikit-learn/issues/21755 */display: inline-block !important;position: relative;}#sk-container-id-2 div.sk-text-repr-fallback {display: none;}</style><div id=\"sk-container-id-2\" class=\"sk-top-container\"><div class=\"sk-text-repr-fallback\"><pre>XGBClassifier(base_score=0.5, booster=&#x27;gbtree&#x27;, colsample_bylevel=1,\n",
       "              colsample_bynode=1, colsample_bytree=0.8, gamma=0, gpu_id=-1,\n",
       "              importance_type=&#x27;gain&#x27;, interaction_constraints=&#x27;&#x27;,\n",
       "              learning_rate=0.001, max_delta_step=0, max_depth=4,\n",
       "              min_child_weight=1, missing=nan, monotone_constraints=&#x27;()&#x27;,\n",
       "              n_estimators=500, n_jobs=12, num_parallel_tree=1, random_state=0,\n",
       "              reg_alpha=0, reg_lambda=1, scale_pos_weight=1, subsample=0.8,\n",
       "              tree_method=&#x27;exact&#x27;, validate_parameters=1, verbosity=None)</pre><b>In a Jupyter environment, please rerun this cell to show the HTML representation or trust the notebook. <br />On GitHub, the HTML representation is unable to render, please try loading this page with nbviewer.org.</b></div><div class=\"sk-container\" hidden><div class=\"sk-item\"><div class=\"sk-estimator sk-toggleable\"><input class=\"sk-toggleable__control sk-hidden--visually\" id=\"sk-estimator-id-2\" type=\"checkbox\" checked><label for=\"sk-estimator-id-2\" class=\"sk-toggleable__label sk-toggleable__label-arrow\">XGBClassifier</label><div class=\"sk-toggleable__content\"><pre>XGBClassifier(base_score=0.5, booster=&#x27;gbtree&#x27;, colsample_bylevel=1,\n",
       "              colsample_bynode=1, colsample_bytree=0.8, gamma=0, gpu_id=-1,\n",
       "              importance_type=&#x27;gain&#x27;, interaction_constraints=&#x27;&#x27;,\n",
       "              learning_rate=0.001, max_delta_step=0, max_depth=4,\n",
       "              min_child_weight=1, missing=nan, monotone_constraints=&#x27;()&#x27;,\n",
       "              n_estimators=500, n_jobs=12, num_parallel_tree=1, random_state=0,\n",
       "              reg_alpha=0, reg_lambda=1, scale_pos_weight=1, subsample=0.8,\n",
       "              tree_method=&#x27;exact&#x27;, validate_parameters=1, verbosity=None)</pre></div></div></div></div></div>"
      ],
      "text/plain": [
       "XGBClassifier(base_score=0.5, booster='gbtree', colsample_bylevel=1,\n",
       "              colsample_bynode=1, colsample_bytree=0.8, gamma=0, gpu_id=-1,\n",
       "              importance_type='gain', interaction_constraints='',\n",
       "              learning_rate=0.001, max_delta_step=0, max_depth=4,\n",
       "              min_child_weight=1, missing=nan, monotone_constraints='()',\n",
       "              n_estimators=500, n_jobs=12, num_parallel_tree=1, random_state=0,\n",
       "              reg_alpha=0, reg_lambda=1, scale_pos_weight=1, subsample=0.8,\n",
       "              tree_method='exact', validate_parameters=1, verbosity=None)"
      ]
     },
     "execution_count": 16,
     "metadata": {},
     "output_type": "execute_result"
    }
   ],
   "source": [
    "best_params =  {'subsample': 0.8, 'n_estimators': 500, 'max_depth': 4, 'learning_rate': 0.001, 'colsample_bytree': 0.8}\n",
    "# Define the XGBoost model\n",
    "model = xgb.XGBClassifier(**best_params)\n",
    "model.fit(X_train, y_train)\n"
   ]
  },
  {
   "cell_type": "code",
   "execution_count": 17,
   "metadata": {},
   "outputs": [
    {
     "name": "stdout",
     "output_type": "stream",
     "text": [
      "              precision    recall  f1-score   support\n",
      "\n",
      "           0       0.63      0.69      0.66      6815\n",
      "           1       0.67      0.61      0.64      6983\n",
      "\n",
      "    accuracy                           0.65     13798\n",
      "   macro avg       0.65      0.65      0.65     13798\n",
      "weighted avg       0.65      0.65      0.65     13798\n",
      "\n"
     ]
    }
   ],
   "source": [
    "# Prediction with best model from random search \n",
    "y_pred_test = model.predict(X_test)\n",
    "\n",
    "\n",
    "\n",
    "print(classification_report(y_test, y_pred_test))"
   ]
  },
  {
   "cell_type": "markdown",
   "metadata": {},
   "source": [
    "# CatBoost"
   ]
  },
  {
   "cell_type": "code",
   "execution_count": 18,
   "metadata": {},
   "outputs": [],
   "source": [
    "\n",
    "from catboost import CatBoostClassifier\n",
    "from sklearn.model_selection import RandomizedSearchCV\n",
    "\n",
    "# Define the CatBoost model\n",
    "model = CatBoostClassifier()\n",
    "\n",
    "# Define the search space (parameter grid)\n",
    "param_grid = {\n",
    "    'iterations': [100, 200, 300],  # Number of boosting rounds\n",
    "    'depth': [8,10,12],  # Maximum tree depth\n",
    "    'learning_rate': [0.01, 0.1, 0.2, 0.3],  # Step size shrinkage used in update\n",
    "    'subsample': [0.7, 0.8, 0.9, 1.0],  # Fraction of samples used for fitting the trees \n",
    "    'colsample_bylevel': [0.7, 0.8, 0.9, 1.0],  # Fraction of features used for fitting the trees at each level\n",
    "}\n",
    "\n",
    "# Create a RandomizedSearchCV object\n",
    "search = RandomizedSearchCV(model, param_distributions=param_grid, n_iter=10, cv=5, scoring='accuracy', n_jobs=-1, random_state=1)\n",
    "\n",
    "# Execute the search\n",
    "result = search.fit(X_train, y_train)\n",
    "\n",
    "# Summarize the results\n",
    "print('Best Score: %s' % result.best_score_)\n",
    "print('Best Hyperparameters: %s' % result.best_params_)"
   ]
  },
  {
   "cell_type": "code",
   "execution_count": 19,
   "metadata": {},
   "outputs": [
    {
     "name": "stdout",
     "output_type": "stream",
     "text": [
      "0:\tlearn: 0.6921079\ttotal: 417ms\tremaining: 41.3s\n",
      "1:\tlearn: 0.6908783\ttotal: 590ms\tremaining: 28.9s\n",
      "2:\tlearn: 0.6896738\ttotal: 699ms\tremaining: 22.6s\n",
      "3:\tlearn: 0.6885098\ttotal: 822ms\tremaining: 19.7s\n",
      "4:\tlearn: 0.6873258\ttotal: 985ms\tremaining: 18.7s\n",
      "5:\tlearn: 0.6861920\ttotal: 1.15s\tremaining: 18s\n",
      "6:\tlearn: 0.6849964\ttotal: 1.27s\tremaining: 16.9s\n",
      "7:\tlearn: 0.6839167\ttotal: 1.37s\tremaining: 15.8s\n",
      "8:\tlearn: 0.6827981\ttotal: 1.46s\tremaining: 14.8s\n",
      "9:\tlearn: 0.6818431\ttotal: 1.55s\tremaining: 14s\n",
      "10:\tlearn: 0.6808176\ttotal: 1.57s\tremaining: 12.7s\n",
      "11:\tlearn: 0.6797884\ttotal: 1.67s\tremaining: 12.2s\n",
      "12:\tlearn: 0.6787568\ttotal: 1.72s\tremaining: 11.5s\n",
      "13:\tlearn: 0.6777658\ttotal: 1.91s\tremaining: 11.8s\n",
      "14:\tlearn: 0.6768361\ttotal: 2.05s\tremaining: 11.6s\n",
      "15:\tlearn: 0.6758641\ttotal: 2.15s\tremaining: 11.3s\n",
      "16:\tlearn: 0.6748547\ttotal: 2.2s\tremaining: 10.7s\n",
      "17:\tlearn: 0.6739297\ttotal: 2.3s\tremaining: 10.5s\n",
      "18:\tlearn: 0.6729620\ttotal: 2.39s\tremaining: 10.2s\n",
      "19:\tlearn: 0.6719642\ttotal: 2.5s\tremaining: 10s\n",
      "20:\tlearn: 0.6710411\ttotal: 2.62s\tremaining: 9.84s\n",
      "21:\tlearn: 0.6702297\ttotal: 2.73s\tremaining: 9.66s\n",
      "22:\tlearn: 0.6693890\ttotal: 2.83s\tremaining: 9.47s\n",
      "23:\tlearn: 0.6685800\ttotal: 2.94s\tremaining: 9.3s\n",
      "24:\tlearn: 0.6677238\ttotal: 3.1s\tremaining: 9.31s\n",
      "25:\tlearn: 0.6669142\ttotal: 3.24s\tremaining: 9.23s\n",
      "26:\tlearn: 0.6661346\ttotal: 3.38s\tremaining: 9.15s\n",
      "27:\tlearn: 0.6653379\ttotal: 3.52s\tremaining: 9.04s\n",
      "28:\tlearn: 0.6645555\ttotal: 3.65s\tremaining: 8.94s\n",
      "29:\tlearn: 0.6638091\ttotal: 3.75s\tremaining: 8.75s\n",
      "30:\tlearn: 0.6629971\ttotal: 3.86s\tremaining: 8.59s\n",
      "31:\tlearn: 0.6622692\ttotal: 3.96s\tremaining: 8.42s\n",
      "32:\tlearn: 0.6614961\ttotal: 4.01s\tremaining: 8.14s\n",
      "33:\tlearn: 0.6607503\ttotal: 4.12s\tremaining: 8s\n",
      "34:\tlearn: 0.6600453\ttotal: 4.22s\tremaining: 7.83s\n",
      "35:\tlearn: 0.6593153\ttotal: 4.23s\tremaining: 7.53s\n",
      "36:\tlearn: 0.6586255\ttotal: 4.33s\tremaining: 7.38s\n",
      "37:\tlearn: 0.6578987\ttotal: 4.44s\tremaining: 7.25s\n",
      "38:\tlearn: 0.6571912\ttotal: 4.58s\tremaining: 7.16s\n",
      "39:\tlearn: 0.6564750\ttotal: 4.71s\tremaining: 7.06s\n",
      "40:\tlearn: 0.6558161\ttotal: 4.84s\tremaining: 6.97s\n",
      "41:\tlearn: 0.6551644\ttotal: 4.96s\tremaining: 6.85s\n",
      "42:\tlearn: 0.6545169\ttotal: 5.08s\tremaining: 6.73s\n",
      "43:\tlearn: 0.6539150\ttotal: 5.2s\tremaining: 6.62s\n",
      "44:\tlearn: 0.6532428\ttotal: 5.3s\tremaining: 6.47s\n",
      "45:\tlearn: 0.6525737\ttotal: 5.41s\tremaining: 6.35s\n",
      "46:\tlearn: 0.6519495\ttotal: 5.52s\tremaining: 6.23s\n",
      "47:\tlearn: 0.6512997\ttotal: 5.63s\tremaining: 6.1s\n",
      "48:\tlearn: 0.6506861\ttotal: 5.74s\tremaining: 5.97s\n",
      "49:\tlearn: 0.6501156\ttotal: 5.86s\tremaining: 5.86s\n",
      "50:\tlearn: 0.6494902\ttotal: 5.96s\tremaining: 5.73s\n",
      "51:\tlearn: 0.6489270\ttotal: 6.08s\tremaining: 5.62s\n",
      "52:\tlearn: 0.6483695\ttotal: 6.19s\tremaining: 5.49s\n",
      "53:\tlearn: 0.6478139\ttotal: 6.3s\tremaining: 5.37s\n",
      "54:\tlearn: 0.6472813\ttotal: 6.42s\tremaining: 5.25s\n",
      "55:\tlearn: 0.6467175\ttotal: 6.54s\tremaining: 5.14s\n",
      "56:\tlearn: 0.6462102\ttotal: 6.64s\tremaining: 5.01s\n",
      "57:\tlearn: 0.6457353\ttotal: 6.65s\tremaining: 4.82s\n",
      "58:\tlearn: 0.6452241\ttotal: 6.75s\tremaining: 4.69s\n",
      "59:\tlearn: 0.6447245\ttotal: 6.86s\tremaining: 4.57s\n",
      "60:\tlearn: 0.6442164\ttotal: 6.9s\tremaining: 4.41s\n",
      "61:\tlearn: 0.6437190\ttotal: 6.99s\tremaining: 4.28s\n",
      "62:\tlearn: 0.6432734\ttotal: 7.1s\tremaining: 4.17s\n",
      "63:\tlearn: 0.6427399\ttotal: 7.19s\tremaining: 4.05s\n",
      "64:\tlearn: 0.6422400\ttotal: 7.29s\tremaining: 3.92s\n",
      "65:\tlearn: 0.6417843\ttotal: 7.39s\tremaining: 3.81s\n",
      "66:\tlearn: 0.6413009\ttotal: 7.48s\tremaining: 3.69s\n",
      "67:\tlearn: 0.6408154\ttotal: 7.59s\tremaining: 3.57s\n",
      "68:\tlearn: 0.6403368\ttotal: 7.7s\tremaining: 3.46s\n",
      "69:\tlearn: 0.6398728\ttotal: 7.81s\tremaining: 3.35s\n",
      "70:\tlearn: 0.6394336\ttotal: 7.91s\tremaining: 3.23s\n",
      "71:\tlearn: 0.6390861\ttotal: 7.92s\tremaining: 3.08s\n",
      "72:\tlearn: 0.6386566\ttotal: 8.01s\tremaining: 2.96s\n",
      "73:\tlearn: 0.6381865\ttotal: 8.11s\tremaining: 2.85s\n",
      "74:\tlearn: 0.6377417\ttotal: 8.21s\tremaining: 2.73s\n",
      "75:\tlearn: 0.6373110\ttotal: 8.22s\tremaining: 2.6s\n",
      "76:\tlearn: 0.6368553\ttotal: 8.32s\tremaining: 2.48s\n",
      "77:\tlearn: 0.6364289\ttotal: 8.42s\tremaining: 2.38s\n",
      "78:\tlearn: 0.6359980\ttotal: 8.52s\tremaining: 2.27s\n",
      "79:\tlearn: 0.6355783\ttotal: 8.63s\tremaining: 2.16s\n",
      "80:\tlearn: 0.6351858\ttotal: 8.74s\tremaining: 2.05s\n",
      "81:\tlearn: 0.6347742\ttotal: 8.84s\tremaining: 1.94s\n",
      "82:\tlearn: 0.6343603\ttotal: 8.94s\tremaining: 1.83s\n",
      "83:\tlearn: 0.6339906\ttotal: 9.04s\tremaining: 1.72s\n",
      "84:\tlearn: 0.6335634\ttotal: 9.18s\tremaining: 1.62s\n",
      "85:\tlearn: 0.6331726\ttotal: 9.28s\tremaining: 1.51s\n",
      "86:\tlearn: 0.6328021\ttotal: 9.36s\tremaining: 1.4s\n",
      "87:\tlearn: 0.6324424\ttotal: 9.47s\tremaining: 1.29s\n",
      "88:\tlearn: 0.6321021\ttotal: 9.57s\tremaining: 1.18s\n",
      "89:\tlearn: 0.6317226\ttotal: 9.67s\tremaining: 1.07s\n",
      "90:\tlearn: 0.6313860\ttotal: 9.76s\tremaining: 965ms\n",
      "91:\tlearn: 0.6309943\ttotal: 9.85s\tremaining: 857ms\n",
      "92:\tlearn: 0.6306783\ttotal: 9.87s\tremaining: 743ms\n",
      "93:\tlearn: 0.6302914\ttotal: 9.96s\tremaining: 636ms\n",
      "94:\tlearn: 0.6299247\ttotal: 10.1s\tremaining: 529ms\n",
      "95:\tlearn: 0.6295500\ttotal: 10.1s\tremaining: 423ms\n",
      "96:\tlearn: 0.6291991\ttotal: 10.2s\tremaining: 316ms\n",
      "97:\tlearn: 0.6288717\ttotal: 10.3s\tremaining: 210ms\n",
      "98:\tlearn: 0.6285408\ttotal: 10.4s\tremaining: 105ms\n",
      "99:\tlearn: 0.6282270\ttotal: 10.5s\tremaining: 0us\n"
     ]
    },
    {
     "data": {
      "text/plain": [
       "<catboost.core.CatBoostClassifier at 0x26d48201e50>"
      ]
     },
     "execution_count": 19,
     "metadata": {},
     "output_type": "execute_result"
    }
   ],
   "source": [
    "best_params = {'subsample': 0.8, 'learning_rate': 0.01, 'iterations': 100, 'depth': 12, 'colsample_bylevel': 0.8}\n",
    "model = CatBoostClassifier(**best_params)\n",
    "model.fit(X_train, y_train)"
   ]
  },
  {
   "cell_type": "code",
   "execution_count": 20,
   "metadata": {},
   "outputs": [
    {
     "name": "stdout",
     "output_type": "stream",
     "text": [
      "              precision    recall  f1-score   support\n",
      "\n",
      "           0       0.64      0.67      0.66      6815\n",
      "           1       0.66      0.63      0.65      6983\n",
      "\n",
      "    accuracy                           0.65     13798\n",
      "   macro avg       0.65      0.65      0.65     13798\n",
      "weighted avg       0.65      0.65      0.65     13798\n",
      "\n"
     ]
    }
   ],
   "source": [
    "# Prediction with best model from random search \n",
    "# best_random = result.best_estimator_\n",
    "\n",
    "# y_pred_test = best_random.predict(X_test)\n",
    "y_pred_test = model.predict(X_test)\n",
    "y_pred_test_prob = model.predict_proba(X_test)\n",
    "\n",
    "print(classification_report(y_test, y_pred_test))"
   ]
  },
  {
   "cell_type": "markdown",
   "metadata": {},
   "source": [
    "# Logistic Regression"
   ]
  },
  {
   "cell_type": "code",
   "execution_count": 21,
   "metadata": {},
   "outputs": [],
   "source": [
    "from sklearn.linear_model import LogisticRegression\n",
    "\n",
    "# Define model\n",
    "model = LogisticRegression()\n",
    "\n",
    "# define evaluation\n",
    "# gkf = GroupKFold(n_splits=3) if not spec as cv= in the randomized search default is 5 fold cv\n",
    "\n",
    "# define search space\n",
    "param_grid = {\n",
    "    'C' : np.logspace(0, 4, num=10),\n",
    "    'penalty' : ['l1', 'l2'],\n",
    "    'solver' : ['liblinear', 'sag']\n",
    "}\n",
    "\n",
    "search = RandomizedSearchCV(model, param_grid, n_iter=5, cv=10, scoring='accuracy', n_jobs=-1, random_state=1)\n",
    "\n",
    "# execute search\n",
    "result = search.fit(X_train, y_train)\n",
    "# summarize result\n",
    "print('Best Score: %s' % result.best_score_)\n",
    "print('Best Hyperparameters: %s' % result.best_params_)"
   ]
  },
  {
   "cell_type": "code",
   "execution_count": 22,
   "metadata": {},
   "outputs": [
    {
     "data": {
      "text/html": [
       "<style>#sk-container-id-3 {color: black;background-color: white;}#sk-container-id-3 pre{padding: 0;}#sk-container-id-3 div.sk-toggleable {background-color: white;}#sk-container-id-3 label.sk-toggleable__label {cursor: pointer;display: block;width: 100%;margin-bottom: 0;padding: 0.3em;box-sizing: border-box;text-align: center;}#sk-container-id-3 label.sk-toggleable__label-arrow:before {content: \"▸\";float: left;margin-right: 0.25em;color: #696969;}#sk-container-id-3 label.sk-toggleable__label-arrow:hover:before {color: black;}#sk-container-id-3 div.sk-estimator:hover label.sk-toggleable__label-arrow:before {color: black;}#sk-container-id-3 div.sk-toggleable__content {max-height: 0;max-width: 0;overflow: hidden;text-align: left;background-color: #f0f8ff;}#sk-container-id-3 div.sk-toggleable__content pre {margin: 0.2em;color: black;border-radius: 0.25em;background-color: #f0f8ff;}#sk-container-id-3 input.sk-toggleable__control:checked~div.sk-toggleable__content {max-height: 200px;max-width: 100%;overflow: auto;}#sk-container-id-3 input.sk-toggleable__control:checked~label.sk-toggleable__label-arrow:before {content: \"▾\";}#sk-container-id-3 div.sk-estimator input.sk-toggleable__control:checked~label.sk-toggleable__label {background-color: #d4ebff;}#sk-container-id-3 div.sk-label input.sk-toggleable__control:checked~label.sk-toggleable__label {background-color: #d4ebff;}#sk-container-id-3 input.sk-hidden--visually {border: 0;clip: rect(1px 1px 1px 1px);clip: rect(1px, 1px, 1px, 1px);height: 1px;margin: -1px;overflow: hidden;padding: 0;position: absolute;width: 1px;}#sk-container-id-3 div.sk-estimator {font-family: monospace;background-color: #f0f8ff;border: 1px dotted black;border-radius: 0.25em;box-sizing: border-box;margin-bottom: 0.5em;}#sk-container-id-3 div.sk-estimator:hover {background-color: #d4ebff;}#sk-container-id-3 div.sk-parallel-item::after {content: \"\";width: 100%;border-bottom: 1px solid gray;flex-grow: 1;}#sk-container-id-3 div.sk-label:hover label.sk-toggleable__label {background-color: #d4ebff;}#sk-container-id-3 div.sk-serial::before {content: \"\";position: absolute;border-left: 1px solid gray;box-sizing: border-box;top: 0;bottom: 0;left: 50%;z-index: 0;}#sk-container-id-3 div.sk-serial {display: flex;flex-direction: column;align-items: center;background-color: white;padding-right: 0.2em;padding-left: 0.2em;position: relative;}#sk-container-id-3 div.sk-item {position: relative;z-index: 1;}#sk-container-id-3 div.sk-parallel {display: flex;align-items: stretch;justify-content: center;background-color: white;position: relative;}#sk-container-id-3 div.sk-item::before, #sk-container-id-3 div.sk-parallel-item::before {content: \"\";position: absolute;border-left: 1px solid gray;box-sizing: border-box;top: 0;bottom: 0;left: 50%;z-index: -1;}#sk-container-id-3 div.sk-parallel-item {display: flex;flex-direction: column;z-index: 1;position: relative;background-color: white;}#sk-container-id-3 div.sk-parallel-item:first-child::after {align-self: flex-end;width: 50%;}#sk-container-id-3 div.sk-parallel-item:last-child::after {align-self: flex-start;width: 50%;}#sk-container-id-3 div.sk-parallel-item:only-child::after {width: 0;}#sk-container-id-3 div.sk-dashed-wrapped {border: 1px dashed gray;margin: 0 0.4em 0.5em 0.4em;box-sizing: border-box;padding-bottom: 0.4em;background-color: white;}#sk-container-id-3 div.sk-label label {font-family: monospace;font-weight: bold;display: inline-block;line-height: 1.2em;}#sk-container-id-3 div.sk-label-container {text-align: center;}#sk-container-id-3 div.sk-container {/* jupyter's `normalize.less` sets `[hidden] { display: none; }` but bootstrap.min.css set `[hidden] { display: none !important; }` so we also need the `!important` here to be able to override the default hidden behavior on the sphinx rendered scikit-learn.org. See: https://github.com/scikit-learn/scikit-learn/issues/21755 */display: inline-block !important;position: relative;}#sk-container-id-3 div.sk-text-repr-fallback {display: none;}</style><div id=\"sk-container-id-3\" class=\"sk-top-container\"><div class=\"sk-text-repr-fallback\"><pre>LogisticRegression()</pre><b>In a Jupyter environment, please rerun this cell to show the HTML representation or trust the notebook. <br />On GitHub, the HTML representation is unable to render, please try loading this page with nbviewer.org.</b></div><div class=\"sk-container\" hidden><div class=\"sk-item\"><div class=\"sk-estimator sk-toggleable\"><input class=\"sk-toggleable__control sk-hidden--visually\" id=\"sk-estimator-id-3\" type=\"checkbox\" checked><label for=\"sk-estimator-id-3\" class=\"sk-toggleable__label sk-toggleable__label-arrow\">LogisticRegression</label><div class=\"sk-toggleable__content\"><pre>LogisticRegression()</pre></div></div></div></div></div>"
      ],
      "text/plain": [
       "LogisticRegression()"
      ]
     },
     "execution_count": 22,
     "metadata": {},
     "output_type": "execute_result"
    }
   ],
   "source": [
    "# # Prediction with best model from random search \n",
    "# best_random = result.best_estimator_\n",
    "# best_random = model.fit(X_train, y_train)\n",
    "\n",
    "\n",
    "best_params = {'solver': 'sag', 'penalty': 'l2', 'C': 1.0}\n",
    "model = LogisticRegression()\n",
    "model.fit(X_train,y_train)\n",
    "# plot_gain(X_test=X_test,y_pred=y_pred_test,y_test=y_test, limite_cote=2)"
   ]
  },
  {
   "cell_type": "code",
   "execution_count": 23,
   "metadata": {},
   "outputs": [
    {
     "name": "stdout",
     "output_type": "stream",
     "text": [
      "              precision    recall  f1-score   support\n",
      "\n",
      "           0       0.50      0.75      0.60      6815\n",
      "           1       0.52      0.26      0.35      6983\n",
      "\n",
      "    accuracy                           0.50     13798\n",
      "   macro avg       0.51      0.51      0.47     13798\n",
      "weighted avg       0.51      0.50      0.47     13798\n",
      "\n"
     ]
    }
   ],
   "source": [
    "# y_pred_test = best_random.predict(X_test)\n",
    "y_pred_test = model.predict(X_test)\n",
    "y_pred_test_prob = model.predict_proba(X_test)\n",
    "\n",
    "print(classification_report(y_test, y_pred_test))"
   ]
  },
  {
   "cell_type": "markdown",
   "metadata": {},
   "source": [
    "# RandomForestClassifier"
   ]
  },
  {
   "cell_type": "code",
   "execution_count": 24,
   "metadata": {},
   "outputs": [],
   "source": [
    "# Define model\n",
    "model = RandomForestClassifier()\n",
    "\n",
    "# define evaluation\n",
    "#gkf = GroupKFold(n_splits=3) if not spec as cv= in the randomized search default is 5 fold cv\n",
    "\n",
    "# define search space\n",
    "param_grid = {\n",
    "    'max_depth': list(range(25, 100, 10)),\n",
    "    'n_estimators': list(range(80, 200, 10))\n",
    "}\n",
    "\n",
    "search = RandomizedSearchCV(model, param_grid, n_iter=5, cv=10, scoring='accuracy', n_jobs=-1, random_state=1)\n",
    "\n",
    "# execute search\n",
    "result = search.fit(X_train, y_train)\n",
    "# summarize result\n",
    "print('Best Score: %s' % result.best_score_)\n",
    "print('Best Hyperparameters: %s' % result.best_params_)"
   ]
  },
  {
   "cell_type": "code",
   "execution_count": 25,
   "metadata": {},
   "outputs": [
    {
     "data": {
      "text/html": [
       "<style>#sk-container-id-4 {color: black;background-color: white;}#sk-container-id-4 pre{padding: 0;}#sk-container-id-4 div.sk-toggleable {background-color: white;}#sk-container-id-4 label.sk-toggleable__label {cursor: pointer;display: block;width: 100%;margin-bottom: 0;padding: 0.3em;box-sizing: border-box;text-align: center;}#sk-container-id-4 label.sk-toggleable__label-arrow:before {content: \"▸\";float: left;margin-right: 0.25em;color: #696969;}#sk-container-id-4 label.sk-toggleable__label-arrow:hover:before {color: black;}#sk-container-id-4 div.sk-estimator:hover label.sk-toggleable__label-arrow:before {color: black;}#sk-container-id-4 div.sk-toggleable__content {max-height: 0;max-width: 0;overflow: hidden;text-align: left;background-color: #f0f8ff;}#sk-container-id-4 div.sk-toggleable__content pre {margin: 0.2em;color: black;border-radius: 0.25em;background-color: #f0f8ff;}#sk-container-id-4 input.sk-toggleable__control:checked~div.sk-toggleable__content {max-height: 200px;max-width: 100%;overflow: auto;}#sk-container-id-4 input.sk-toggleable__control:checked~label.sk-toggleable__label-arrow:before {content: \"▾\";}#sk-container-id-4 div.sk-estimator input.sk-toggleable__control:checked~label.sk-toggleable__label {background-color: #d4ebff;}#sk-container-id-4 div.sk-label input.sk-toggleable__control:checked~label.sk-toggleable__label {background-color: #d4ebff;}#sk-container-id-4 input.sk-hidden--visually {border: 0;clip: rect(1px 1px 1px 1px);clip: rect(1px, 1px, 1px, 1px);height: 1px;margin: -1px;overflow: hidden;padding: 0;position: absolute;width: 1px;}#sk-container-id-4 div.sk-estimator {font-family: monospace;background-color: #f0f8ff;border: 1px dotted black;border-radius: 0.25em;box-sizing: border-box;margin-bottom: 0.5em;}#sk-container-id-4 div.sk-estimator:hover {background-color: #d4ebff;}#sk-container-id-4 div.sk-parallel-item::after {content: \"\";width: 100%;border-bottom: 1px solid gray;flex-grow: 1;}#sk-container-id-4 div.sk-label:hover label.sk-toggleable__label {background-color: #d4ebff;}#sk-container-id-4 div.sk-serial::before {content: \"\";position: absolute;border-left: 1px solid gray;box-sizing: border-box;top: 0;bottom: 0;left: 50%;z-index: 0;}#sk-container-id-4 div.sk-serial {display: flex;flex-direction: column;align-items: center;background-color: white;padding-right: 0.2em;padding-left: 0.2em;position: relative;}#sk-container-id-4 div.sk-item {position: relative;z-index: 1;}#sk-container-id-4 div.sk-parallel {display: flex;align-items: stretch;justify-content: center;background-color: white;position: relative;}#sk-container-id-4 div.sk-item::before, #sk-container-id-4 div.sk-parallel-item::before {content: \"\";position: absolute;border-left: 1px solid gray;box-sizing: border-box;top: 0;bottom: 0;left: 50%;z-index: -1;}#sk-container-id-4 div.sk-parallel-item {display: flex;flex-direction: column;z-index: 1;position: relative;background-color: white;}#sk-container-id-4 div.sk-parallel-item:first-child::after {align-self: flex-end;width: 50%;}#sk-container-id-4 div.sk-parallel-item:last-child::after {align-self: flex-start;width: 50%;}#sk-container-id-4 div.sk-parallel-item:only-child::after {width: 0;}#sk-container-id-4 div.sk-dashed-wrapped {border: 1px dashed gray;margin: 0 0.4em 0.5em 0.4em;box-sizing: border-box;padding-bottom: 0.4em;background-color: white;}#sk-container-id-4 div.sk-label label {font-family: monospace;font-weight: bold;display: inline-block;line-height: 1.2em;}#sk-container-id-4 div.sk-label-container {text-align: center;}#sk-container-id-4 div.sk-container {/* jupyter's `normalize.less` sets `[hidden] { display: none; }` but bootstrap.min.css set `[hidden] { display: none !important; }` so we also need the `!important` here to be able to override the default hidden behavior on the sphinx rendered scikit-learn.org. See: https://github.com/scikit-learn/scikit-learn/issues/21755 */display: inline-block !important;position: relative;}#sk-container-id-4 div.sk-text-repr-fallback {display: none;}</style><div id=\"sk-container-id-4\" class=\"sk-top-container\"><div class=\"sk-text-repr-fallback\"><pre>RandomForestClassifier(max_depth=55, n_estimators=120)</pre><b>In a Jupyter environment, please rerun this cell to show the HTML representation or trust the notebook. <br />On GitHub, the HTML representation is unable to render, please try loading this page with nbviewer.org.</b></div><div class=\"sk-container\" hidden><div class=\"sk-item\"><div class=\"sk-estimator sk-toggleable\"><input class=\"sk-toggleable__control sk-hidden--visually\" id=\"sk-estimator-id-4\" type=\"checkbox\" checked><label for=\"sk-estimator-id-4\" class=\"sk-toggleable__label sk-toggleable__label-arrow\">RandomForestClassifier</label><div class=\"sk-toggleable__content\"><pre>RandomForestClassifier(max_depth=55, n_estimators=120)</pre></div></div></div></div></div>"
      ],
      "text/plain": [
       "RandomForestClassifier(max_depth=55, n_estimators=120)"
      ]
     },
     "execution_count": 25,
     "metadata": {},
     "output_type": "execute_result"
    }
   ],
   "source": [
    "best_params = {'n_estimators': 120, 'max_depth': 55}\n",
    "model = RandomForestClassifier(**best_params)\n",
    "model.fit(X_train, y_train)"
   ]
  },
  {
   "cell_type": "code",
   "execution_count": 26,
   "metadata": {},
   "outputs": [
    {
     "name": "stdout",
     "output_type": "stream",
     "text": [
      "              precision    recall  f1-score   support\n",
      "\n",
      "           0       0.62      0.65      0.64      6815\n",
      "           1       0.65      0.62      0.63      6983\n",
      "\n",
      "    accuracy                           0.64     13798\n",
      "   macro avg       0.64      0.64      0.64     13798\n",
      "weighted avg       0.64      0.64      0.64     13798\n",
      "\n"
     ]
    }
   ],
   "source": [
    "# Prediction with best model from random search \n",
    "# best_random = result.best_estimator_\n",
    "# y_pred_test = best_random.predict(X_test)\n",
    "\n",
    "y_pred_test = model.predict(X_test)\n",
    "y_pred_test_prob = model.predict_proba(X_test)\n",
    "print(classification_report(y_test, y_pred_test))\n"
   ]
  },
  {
   "cell_type": "markdown",
   "metadata": {},
   "source": [
    "# MLPClassifier"
   ]
  },
  {
   "cell_type": "code",
   "execution_count": 27,
   "metadata": {},
   "outputs": [],
   "source": [
    "from sklearn.neural_network import MLPClassifier\n",
    "from sklearn.model_selection import GridSearchCV"
   ]
  },
  {
   "cell_type": "code",
   "execution_count": 28,
   "metadata": {},
   "outputs": [],
   "source": [
    "mlp = MLPClassifier()\n",
    "\n",
    "# Il s'agit d'une sortie binaire \n",
    "# donc la fonction d’activation des neurones de la couche de sortie est 'logistic'\n",
    "mlp.out_activation_ = 'logistic'\n",
    "mlp.n_outputs_ = 1"
   ]
  },
  {
   "cell_type": "code",
   "execution_count": 29,
   "metadata": {},
   "outputs": [],
   "source": [
    "# Grille de recherche d'hyperparamètres\n",
    "param_grid = {\n",
    "    'hidden_layer_sizes': [(30, 20, 15, 25),(50, 40, 30,20)],\n",
    "    'activation':['relu', 'tanh', 'logistic'],#['relu'],\n",
    "    'solver':  ['adam', 'lbfgs', 'sgd'],# ['adam'],\n",
    "}"
   ]
  },
  {
   "cell_type": "code",
   "execution_count": 30,
   "metadata": {},
   "outputs": [],
   "source": [
    "grid_search = GridSearchCV(mlp, param_grid, n_jobs=-1, cv=3)\n",
    "grid_search.fit(X_train, y_train)"
   ]
  },
  {
   "cell_type": "code",
   "execution_count": null,
   "metadata": {},
   "outputs": [
    {
     "name": "stdout",
     "output_type": "stream",
     "text": [
      "Best parameters found : {'activation': 'tanh', 'hidden_layer_sizes': (30, 20, 15, 25), 'solver': 'lbfgs'}\n"
     ]
    }
   ],
   "source": [
    "# best_params = {'activation': 'relu', 'hidden_layer_sizes': (30, 20, 15, 25), 'solver': 'lbfgs'}\n",
    "\n",
    "# Obtenir la meilleure configuration d'hyperparamètres\n",
    "best_params = grid_search.best_params_\n",
    "# meilleur parametre\n",
    "print(f'Best parameters found : {best_params}')"
   ]
  },
  {
   "cell_type": "code",
   "execution_count": null,
   "metadata": {},
   "outputs": [
    {
     "name": "stderr",
     "output_type": "stream",
     "text": [
      "C:\\Users\\User\\AppData\\Local\\Packages\\PythonSoftwareFoundation.Python.3.9_qbz5n2kfra8p0\\LocalCache\\local-packages\\Python39\\site-packages\\sklearn\\neural_network\\_multilayer_perceptron.py:559: ConvergenceWarning: lbfgs failed to converge (status=1):\n",
      "STOP: TOTAL NO. of ITERATIONS REACHED LIMIT.\n",
      "\n",
      "Increase the number of iterations (max_iter) or scale the data as shown in:\n",
      "    https://scikit-learn.org/stable/modules/preprocessing.html\n",
      "  self.n_iter_ = _check_optimize_result(\"lbfgs\", opt_res, self.max_iter)\n"
     ]
    },
    {
     "data": {
      "text/html": [
       "<style>#sk-container-id-12 {color: black;background-color: white;}#sk-container-id-12 pre{padding: 0;}#sk-container-id-12 div.sk-toggleable {background-color: white;}#sk-container-id-12 label.sk-toggleable__label {cursor: pointer;display: block;width: 100%;margin-bottom: 0;padding: 0.3em;box-sizing: border-box;text-align: center;}#sk-container-id-12 label.sk-toggleable__label-arrow:before {content: \"▸\";float: left;margin-right: 0.25em;color: #696969;}#sk-container-id-12 label.sk-toggleable__label-arrow:hover:before {color: black;}#sk-container-id-12 div.sk-estimator:hover label.sk-toggleable__label-arrow:before {color: black;}#sk-container-id-12 div.sk-toggleable__content {max-height: 0;max-width: 0;overflow: hidden;text-align: left;background-color: #f0f8ff;}#sk-container-id-12 div.sk-toggleable__content pre {margin: 0.2em;color: black;border-radius: 0.25em;background-color: #f0f8ff;}#sk-container-id-12 input.sk-toggleable__control:checked~div.sk-toggleable__content {max-height: 200px;max-width: 100%;overflow: auto;}#sk-container-id-12 input.sk-toggleable__control:checked~label.sk-toggleable__label-arrow:before {content: \"▾\";}#sk-container-id-12 div.sk-estimator input.sk-toggleable__control:checked~label.sk-toggleable__label {background-color: #d4ebff;}#sk-container-id-12 div.sk-label input.sk-toggleable__control:checked~label.sk-toggleable__label {background-color: #d4ebff;}#sk-container-id-12 input.sk-hidden--visually {border: 0;clip: rect(1px 1px 1px 1px);clip: rect(1px, 1px, 1px, 1px);height: 1px;margin: -1px;overflow: hidden;padding: 0;position: absolute;width: 1px;}#sk-container-id-12 div.sk-estimator {font-family: monospace;background-color: #f0f8ff;border: 1px dotted black;border-radius: 0.25em;box-sizing: border-box;margin-bottom: 0.5em;}#sk-container-id-12 div.sk-estimator:hover {background-color: #d4ebff;}#sk-container-id-12 div.sk-parallel-item::after {content: \"\";width: 100%;border-bottom: 1px solid gray;flex-grow: 1;}#sk-container-id-12 div.sk-label:hover label.sk-toggleable__label {background-color: #d4ebff;}#sk-container-id-12 div.sk-serial::before {content: \"\";position: absolute;border-left: 1px solid gray;box-sizing: border-box;top: 0;bottom: 0;left: 50%;z-index: 0;}#sk-container-id-12 div.sk-serial {display: flex;flex-direction: column;align-items: center;background-color: white;padding-right: 0.2em;padding-left: 0.2em;position: relative;}#sk-container-id-12 div.sk-item {position: relative;z-index: 1;}#sk-container-id-12 div.sk-parallel {display: flex;align-items: stretch;justify-content: center;background-color: white;position: relative;}#sk-container-id-12 div.sk-item::before, #sk-container-id-12 div.sk-parallel-item::before {content: \"\";position: absolute;border-left: 1px solid gray;box-sizing: border-box;top: 0;bottom: 0;left: 50%;z-index: -1;}#sk-container-id-12 div.sk-parallel-item {display: flex;flex-direction: column;z-index: 1;position: relative;background-color: white;}#sk-container-id-12 div.sk-parallel-item:first-child::after {align-self: flex-end;width: 50%;}#sk-container-id-12 div.sk-parallel-item:last-child::after {align-self: flex-start;width: 50%;}#sk-container-id-12 div.sk-parallel-item:only-child::after {width: 0;}#sk-container-id-12 div.sk-dashed-wrapped {border: 1px dashed gray;margin: 0 0.4em 0.5em 0.4em;box-sizing: border-box;padding-bottom: 0.4em;background-color: white;}#sk-container-id-12 div.sk-label label {font-family: monospace;font-weight: bold;display: inline-block;line-height: 1.2em;}#sk-container-id-12 div.sk-label-container {text-align: center;}#sk-container-id-12 div.sk-container {/* jupyter's `normalize.less` sets `[hidden] { display: none; }` but bootstrap.min.css set `[hidden] { display: none !important; }` so we also need the `!important` here to be able to override the default hidden behavior on the sphinx rendered scikit-learn.org. See: https://github.com/scikit-learn/scikit-learn/issues/21755 */display: inline-block !important;position: relative;}#sk-container-id-12 div.sk-text-repr-fallback {display: none;}</style><div id=\"sk-container-id-12\" class=\"sk-top-container\"><div class=\"sk-text-repr-fallback\"><pre>MLPClassifier(activation=&#x27;tanh&#x27;, hidden_layer_sizes=(30, 20, 15, 25),\n",
       "              solver=&#x27;lbfgs&#x27;)</pre><b>In a Jupyter environment, please rerun this cell to show the HTML representation or trust the notebook. <br />On GitHub, the HTML representation is unable to render, please try loading this page with nbviewer.org.</b></div><div class=\"sk-container\" hidden><div class=\"sk-item\"><div class=\"sk-estimator sk-toggleable\"><input class=\"sk-toggleable__control sk-hidden--visually\" id=\"sk-estimator-id-16\" type=\"checkbox\" checked><label for=\"sk-estimator-id-16\" class=\"sk-toggleable__label sk-toggleable__label-arrow\">MLPClassifier</label><div class=\"sk-toggleable__content\"><pre>MLPClassifier(activation=&#x27;tanh&#x27;, hidden_layer_sizes=(30, 20, 15, 25),\n",
       "              solver=&#x27;lbfgs&#x27;)</pre></div></div></div></div></div>"
      ],
      "text/plain": [
       "MLPClassifier(activation='tanh', hidden_layer_sizes=(30, 20, 15, 25),\n",
       "              solver='lbfgs')"
      ]
     },
     "execution_count": 65,
     "metadata": {},
     "output_type": "execute_result"
    }
   ],
   "source": [
    "best_mlp = MLPClassifier(**best_params)\n",
    "best_mlp.fit(X_train, y_train)"
   ]
  },
  {
   "cell_type": "code",
   "execution_count": null,
   "metadata": {},
   "outputs": [
    {
     "name": "stdout",
     "output_type": "stream",
     "text": [
      "              precision    recall  f1-score   support\n",
      "\n",
      "           0       0.69      0.66      0.67      6542\n",
      "           1       0.69      0.73      0.71      7006\n",
      "\n",
      "    accuracy                           0.69     13548\n",
      "   macro avg       0.69      0.69      0.69     13548\n",
      "weighted avg       0.69      0.69      0.69     13548\n",
      "\n"
     ]
    }
   ],
   "source": [
    "y_pred_test = best_mlp.predict(X_test)\n",
    "y_pred_test_prob = best_mlp.predict_proba(X_test)\n",
    "print(classification_report(y_test, y_pred_test))"
   ]
  }
 ],
 "metadata": {
  "kernelspec": {
   "display_name": "Python 3",
   "language": "python",
   "name": "python3"
  },
  "language_info": {
   "codemirror_mode": {
    "name": "ipython",
    "version": 3
   },
   "file_extension": ".py",
   "mimetype": "text/x-python",
   "name": "python",
   "nbconvert_exporter": "python",
   "pygments_lexer": "ipython3",
   "version": "3.9.13"
  }
 },
 "nbformat": 4,
 "nbformat_minor": 2
}
